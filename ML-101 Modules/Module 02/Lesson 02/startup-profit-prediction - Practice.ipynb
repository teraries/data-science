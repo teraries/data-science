{
 "cells": [
  {
   "cell_type": "markdown",
   "metadata": {},
   "source": [
    "# \"50 startups.\""
   ]
  },
  {
   "cell_type": "markdown",
   "metadata": {},
   "source": [
    "### _\"Необходимо предсказать profit компаний от инвестирования\" (Regression task)._"
   ]
  },
  {
   "cell_type": "markdown",
   "metadata": {},
   "source": [
    "## Table of Contents\n",
    "\n",
    "\n",
    "## Part 0: Introduction\n",
    "\n",
    "### Overview\n",
    "The dataset that's we see here contains data about 50 startups. It has 7 columns: “ID”, “R&D Spend”, “Administration”, “Marketing Spend”, “State”, “Category”  “Profit”.\n",
    "\n",
    "    \n",
    "**Метаданные:**\n",
    "    \n",
    "* **ID** - startup ID\n",
    "\n",
    "* **R&D Spend** - how much each startup spends on Research and Development\n",
    "\n",
    "* **Administration** - how much they spend on Administration cost\n",
    "\n",
    "* **Marketing Spend** - how much they spend on Marketing\n",
    "\n",
    "* **State** - which state the startup is based in\n",
    "\n",
    "* **Category** - which business category the startup belong to\n",
    "\n",
    "* **Profit** - the profit made by the startup\n",
    "   \n",
    "\n",
    "### Questions:\n",
    "    \n",
    "\n",
    "* #### Predict which companies to invest for maximizing profit (choose model with the best score; create predictions; choose companies)\n",
    "\n",
    "\n",
    "## [Part 1: Import, Load Data](#Part-1:-Import,-Load-Data.)\n",
    "* ### Import libraries, Read data from ‘.csv’ file\n",
    "\n",
    "## [Part 2: Exploratory Data Analysis](#Part-2:-Exploratory-Data-Analysis.)\n",
    "* ### Info, Head\n",
    "* ### Observation of target variable (describe + visualisation:distplot)\n",
    "* ### Numerical and Categorical features\n",
    "    * #### List of Numerical and Categorical features\n",
    "* ### Missing Data\n",
    "    * #### List of data features with missing values  \n",
    "    * #### Filling missing values\n",
    "* ### Numerical and Categorical features    \n",
    "    * #### Visualisation  of Numerical and categorical features (regplot + barplot)\n",
    "\n",
    "## [Part 3: Data Wrangling and Transformation](#Part-3:-Data-Wrangling-and-Transformation.)\n",
    "* ### One-Hot Encoding \n",
    "* ### Standard Scaler (optional)\n",
    "* ### Creating datasets for ML part\n",
    "* ### 'Train\\Test' splitting method\n",
    "\n",
    "## [Part 4: Machine Learning](#Part-4:-Machine-Learning.)\n",
    "* ### ML Models (Linear regression, Gradient Boosting Regression)\n",
    "* ### Build, train, evaluate and visualise models\n",
    "* ### Creating final predictions with Test set\n",
    "* ### Model comparison\n",
    "\n",
    "\n",
    "## [Conclusion](#Conclusion.)\n",
    "* ### Submission of ‘.csv’ file with predictions"
   ]
  },
  {
   "cell_type": "markdown",
   "metadata": {},
   "source": [
    "## Part 1: Import, Load Data."
   ]
  },
  {
   "cell_type": "markdown",
   "metadata": {},
   "source": [
    "* ### Import "
   ]
  },
  {
   "cell_type": "code",
   "execution_count": 199,
   "metadata": {},
   "outputs": [],
   "source": [
    "# import standard libraries\n",
    "import pandas as pd\n",
    "import numpy as np\n",
    "import seaborn as sns\n",
    "import matplotlib.pyplot as plt\n",
    "from scipy import stats\n",
    "import pylab as pl\n",
    "\n",
    "# import models and metrics\n",
    "from sklearn import metrics, linear_model, model_selection\n",
    "from sklearn.metrics import r2_score, mean_squared_error, mean_absolute_error, mean_squared_log_error\n",
    "from sklearn.model_selection import cross_val_score\n",
    "from sklearn.linear_model import LinearRegression, Lasso, Ridge, ElasticNet\n",
    "from sklearn.ensemble import GradientBoostingRegressor\n",
    "from sklearn.model_selection import train_test_split"
   ]
  },
  {
   "cell_type": "markdown",
   "metadata": {},
   "source": [
    "* ### Load Data"
   ]
  },
  {
   "cell_type": "code",
   "execution_count": 108,
   "metadata": {
    "_cell_guid": "79c7e3d0-c299-4dcb-8224-4455121ee9b0",
    "_uuid": "d629ff2d2480ee46fbb7e2d37f6b5fab8052498a"
   },
   "outputs": [],
   "source": [
    "# read data from '.csv' files\n",
    "train = pd.read_csv('train.csv')\n",
    "test = pd.read_csv('test.csv')\n",
    "\n",
    "# identify target\n",
    "target = train['Profit']"
   ]
  },
  {
   "cell_type": "markdown",
   "metadata": {},
   "source": [
    "## Part 2: Exploratory Data Analysis."
   ]
  },
  {
   "cell_type": "markdown",
   "metadata": {},
   "source": [
    "* ### Info"
   ]
  },
  {
   "cell_type": "code",
   "execution_count": 109,
   "metadata": {},
   "outputs": [
    {
     "name": "stdout",
     "output_type": "stream",
     "text": [
      "<class 'pandas.core.frame.DataFrame'>\n",
      "RangeIndex: 50 entries, 0 to 49\n",
      "Data columns (total 7 columns):\n",
      " #   Column           Non-Null Count  Dtype  \n",
      "---  ------           --------------  -----  \n",
      " 0   ID               50 non-null     int64  \n",
      " 1   R&D Spend        48 non-null     float64\n",
      " 2   Administration   50 non-null     float64\n",
      " 3   Marketing Spend  47 non-null     float64\n",
      " 4   State            50 non-null     object \n",
      " 5   Category         49 non-null     object \n",
      " 6   Profit           50 non-null     float64\n",
      "dtypes: float64(4), int64(1), object(2)\n",
      "memory usage: 2.9+ KB\n"
     ]
    }
   ],
   "source": [
    "# print the full summary of the Train dataset\n",
    "train.info()"
   ]
  },
  {
   "cell_type": "code",
   "execution_count": 110,
   "metadata": {},
   "outputs": [
    {
     "name": "stdout",
     "output_type": "stream",
     "text": [
      "<class 'pandas.core.frame.DataFrame'>\n",
      "RangeIndex: 50 entries, 0 to 49\n",
      "Data columns (total 6 columns):\n",
      " #   Column           Non-Null Count  Dtype  \n",
      "---  ------           --------------  -----  \n",
      " 0   ID               50 non-null     int64  \n",
      " 1   R&D Spend        48 non-null     float64\n",
      " 2   Administration   48 non-null     float64\n",
      " 3   Marketing Spend  50 non-null     float64\n",
      " 4   State            49 non-null     object \n",
      " 5   Category         50 non-null     object \n",
      "dtypes: float64(3), int64(1), object(2)\n",
      "memory usage: 2.5+ KB\n"
     ]
    }
   ],
   "source": [
    "# print the full summary of the Test dataset\n",
    "test.info()"
   ]
  },
  {
   "cell_type": "markdown",
   "metadata": {},
   "source": [
    "* ### Head"
   ]
  },
  {
   "cell_type": "code",
   "execution_count": 111,
   "metadata": {
    "scrolled": false
   },
   "outputs": [
    {
     "data": {
      "text/html": [
       "<div>\n",
       "<style scoped>\n",
       "    .dataframe tbody tr th:only-of-type {\n",
       "        vertical-align: middle;\n",
       "    }\n",
       "\n",
       "    .dataframe tbody tr th {\n",
       "        vertical-align: top;\n",
       "    }\n",
       "\n",
       "    .dataframe thead th {\n",
       "        text-align: right;\n",
       "    }\n",
       "</style>\n",
       "<table border=\"1\" class=\"dataframe\">\n",
       "  <thead>\n",
       "    <tr style=\"text-align: right;\">\n",
       "      <th></th>\n",
       "      <th>ID</th>\n",
       "      <th>R&amp;D Spend</th>\n",
       "      <th>Administration</th>\n",
       "      <th>Marketing Spend</th>\n",
       "      <th>State</th>\n",
       "      <th>Category</th>\n",
       "      <th>Profit</th>\n",
       "    </tr>\n",
       "  </thead>\n",
       "  <tbody>\n",
       "    <tr>\n",
       "      <th>0</th>\n",
       "      <td>0</td>\n",
       "      <td>165349.20</td>\n",
       "      <td>136897.80</td>\n",
       "      <td>471784.10</td>\n",
       "      <td>New York</td>\n",
       "      <td>Industrials</td>\n",
       "      <td>192261.83</td>\n",
       "    </tr>\n",
       "    <tr>\n",
       "      <th>1</th>\n",
       "      <td>1</td>\n",
       "      <td>162597.70</td>\n",
       "      <td>151377.59</td>\n",
       "      <td>443898.53</td>\n",
       "      <td>California</td>\n",
       "      <td>Technology</td>\n",
       "      <td>191792.06</td>\n",
       "    </tr>\n",
       "    <tr>\n",
       "      <th>2</th>\n",
       "      <td>2</td>\n",
       "      <td>153441.51</td>\n",
       "      <td>101145.55</td>\n",
       "      <td>407934.54</td>\n",
       "      <td>Florida</td>\n",
       "      <td>Healthcare</td>\n",
       "      <td>191050.39</td>\n",
       "    </tr>\n",
       "    <tr>\n",
       "      <th>3</th>\n",
       "      <td>3</td>\n",
       "      <td>144372.41</td>\n",
       "      <td>118671.85</td>\n",
       "      <td>383199.62</td>\n",
       "      <td>New York</td>\n",
       "      <td>Financials</td>\n",
       "      <td>182901.99</td>\n",
       "    </tr>\n",
       "    <tr>\n",
       "      <th>4</th>\n",
       "      <td>4</td>\n",
       "      <td>142107.34</td>\n",
       "      <td>91391.77</td>\n",
       "      <td>366168.42</td>\n",
       "      <td>Florida</td>\n",
       "      <td>Industrials</td>\n",
       "      <td>166187.94</td>\n",
       "    </tr>\n",
       "  </tbody>\n",
       "</table>\n",
       "</div>"
      ],
      "text/plain": [
       "   ID  R&D Spend  Administration  Marketing Spend       State     Category  \\\n",
       "0   0  165349.20       136897.80        471784.10    New York  Industrials   \n",
       "1   1  162597.70       151377.59        443898.53  California   Technology   \n",
       "2   2  153441.51       101145.55        407934.54     Florida   Healthcare   \n",
       "3   3  144372.41       118671.85        383199.62    New York   Financials   \n",
       "4   4  142107.34        91391.77        366168.42     Florida  Industrials   \n",
       "\n",
       "      Profit  \n",
       "0  192261.83  \n",
       "1  191792.06  \n",
       "2  191050.39  \n",
       "3  182901.99  \n",
       "4  166187.94  "
      ]
     },
     "execution_count": 111,
     "metadata": {},
     "output_type": "execute_result"
    }
   ],
   "source": [
    "# preview of the first 5 lines of the loaded Train data \n",
    "train.head()"
   ]
  },
  {
   "cell_type": "code",
   "execution_count": 112,
   "metadata": {},
   "outputs": [
    {
     "data": {
      "text/html": [
       "<div>\n",
       "<style scoped>\n",
       "    .dataframe tbody tr th:only-of-type {\n",
       "        vertical-align: middle;\n",
       "    }\n",
       "\n",
       "    .dataframe tbody tr th {\n",
       "        vertical-align: top;\n",
       "    }\n",
       "\n",
       "    .dataframe thead th {\n",
       "        text-align: right;\n",
       "    }\n",
       "</style>\n",
       "<table border=\"1\" class=\"dataframe\">\n",
       "  <thead>\n",
       "    <tr style=\"text-align: right;\">\n",
       "      <th></th>\n",
       "      <th>ID</th>\n",
       "      <th>R&amp;D Spend</th>\n",
       "      <th>Administration</th>\n",
       "      <th>Marketing Spend</th>\n",
       "      <th>State</th>\n",
       "      <th>Category</th>\n",
       "    </tr>\n",
       "  </thead>\n",
       "  <tbody>\n",
       "    <tr>\n",
       "      <th>0</th>\n",
       "      <td>0</td>\n",
       "      <td>165349.20</td>\n",
       "      <td>136897.80</td>\n",
       "      <td>471784.10</td>\n",
       "      <td>New York</td>\n",
       "      <td>Industrials</td>\n",
       "    </tr>\n",
       "    <tr>\n",
       "      <th>1</th>\n",
       "      <td>1</td>\n",
       "      <td>162597.70</td>\n",
       "      <td>151377.59</td>\n",
       "      <td>443898.53</td>\n",
       "      <td>California</td>\n",
       "      <td>Technology</td>\n",
       "    </tr>\n",
       "    <tr>\n",
       "      <th>2</th>\n",
       "      <td>2</td>\n",
       "      <td>153441.51</td>\n",
       "      <td>101145.55</td>\n",
       "      <td>407934.54</td>\n",
       "      <td>Florida</td>\n",
       "      <td>Healthcare</td>\n",
       "    </tr>\n",
       "    <tr>\n",
       "      <th>3</th>\n",
       "      <td>3</td>\n",
       "      <td>144372.41</td>\n",
       "      <td>118671.85</td>\n",
       "      <td>383199.62</td>\n",
       "      <td>New York</td>\n",
       "      <td>Financials</td>\n",
       "    </tr>\n",
       "    <tr>\n",
       "      <th>4</th>\n",
       "      <td>4</td>\n",
       "      <td>142107.34</td>\n",
       "      <td>91391.77</td>\n",
       "      <td>366168.42</td>\n",
       "      <td>Florida</td>\n",
       "      <td>Industrials</td>\n",
       "    </tr>\n",
       "  </tbody>\n",
       "</table>\n",
       "</div>"
      ],
      "text/plain": [
       "   ID  R&D Spend  Administration  Marketing Spend       State     Category\n",
       "0   0  165349.20       136897.80        471784.10    New York  Industrials\n",
       "1   1  162597.70       151377.59        443898.53  California   Technology\n",
       "2   2  153441.51       101145.55        407934.54     Florida   Healthcare\n",
       "3   3  144372.41       118671.85        383199.62    New York   Financials\n",
       "4   4  142107.34        91391.77        366168.42     Florida  Industrials"
      ]
     },
     "execution_count": 112,
     "metadata": {},
     "output_type": "execute_result"
    }
   ],
   "source": [
    "# preview of the first 5 lines of the loaded Test data \n",
    "test.head()"
   ]
  },
  {
   "cell_type": "markdown",
   "metadata": {},
   "source": [
    "* ### Observation of target variable"
   ]
  },
  {
   "cell_type": "code",
   "execution_count": 113,
   "metadata": {},
   "outputs": [
    {
     "data": {
      "text/plain": [
       "count        50.000000\n",
       "mean     112012.639200\n",
       "std       40306.180338\n",
       "min       14681.400000\n",
       "25%       90138.902500\n",
       "50%      107978.190000\n",
       "75%      139765.977500\n",
       "max      192261.830000\n",
       "Name: Profit, dtype: float64"
      ]
     },
     "execution_count": 113,
     "metadata": {},
     "output_type": "execute_result"
    }
   ],
   "source": [
    "# target variable\n",
    "target.describe()"
   ]
  },
  {
   "cell_type": "code",
   "execution_count": 114,
   "metadata": {
    "scrolled": true
   },
   "outputs": [
    {
     "name": "stderr",
     "output_type": "stream",
     "text": [
      "C:\\DS\\lib\\site-packages\\seaborn\\distributions.py:2551: FutureWarning: `distplot` is a deprecated function and will be removed in a future version. Please adapt your code to use either `displot` (a figure-level function with similar flexibility) or `histplot` (an axes-level function for histograms).\n",
      "  warnings.warn(msg, FutureWarning)\n"
     ]
    },
    {
     "data": {
      "text/plain": [
       "<AxesSubplot:xlabel='Profit', ylabel='Density'>"
      ]
     },
     "execution_count": 114,
     "metadata": {},
     "output_type": "execute_result"
    },
    {
     "data": {
      "image/png": "[encoded data removed]",
      "text/plain": [
       "<Figure size 432x288 with 1 Axes>"
      ]
     },
     "metadata": {
      "needs_background": "light"
     },
     "output_type": "display_data"
    }
   ],
   "source": [
    "# visualisation of 'Profit' distribution\n",
    "sns.distplot(target, color = 'b')"
   ]
  },
  {
   "cell_type": "code",
   "execution_count": 115,
   "metadata": {},
   "outputs": [],
   "source": [
    "# set 'ID' to index\n",
    "train = train.set_index('ID')\n",
    "test = test.set_index('ID')"
   ]
  },
  {
   "cell_type": "markdown",
   "metadata": {},
   "source": [
    "* ### Numerical and Categorical features\n",
    "#### List of Numerical and Categorical features"
   ]
  },
  {
   "cell_type": "code",
   "execution_count": 116,
   "metadata": {
    "scrolled": true
   },
   "outputs": [
    {
     "name": "stdout",
     "output_type": "stream",
     "text": [
      "Количество количественных признаков:  4\n",
      "\n",
      "Index(['R&D Spend', 'Administration', 'Marketing Spend', 'Profit'], dtype='object')\n",
      "\n",
      "Количество категориальных признаков:  2\n",
      "\n",
      "Index(['State', 'Category'], dtype='object')\n",
      "\n"
     ]
    }
   ],
   "source": [
    "# check for Numerical and Categorical features in Train\n",
    "numerical_feats_train = train.dtypes[train.dtypes != 'object'].index\n",
    "print('Количество количественных признаков: ', len(numerical_feats_train))\n",
    "print()\n",
    "print(train[numerical_feats_train].columns)\n",
    "print()\n",
    "categorical_feats_train = train.dtypes[train.dtypes == 'object'].index\n",
    "print('Количество категориальных признаков: ', len(categorical_feats_train))\n",
    "print()\n",
    "print(train[categorical_feats_train].columns)\n",
    "print()"
   ]
  },
  {
   "cell_type": "markdown",
   "metadata": {},
   "source": [
    "* ### Missing values"
   ]
  },
  {
   "cell_type": "markdown",
   "metadata": {},
   "source": [
    "#### List of data features with missing values"
   ]
  },
  {
   "cell_type": "code",
   "execution_count": 117,
   "metadata": {
    "scrolled": true
   },
   "outputs": [
    {
     "name": "stdout",
     "output_type": "stream",
     "text": [
      "R&D Spend          2\n",
      "Administration     0\n",
      "Marketing Spend    3\n",
      "State              0\n",
      "Category           1\n",
      "Profit             0\n",
      "dtype: int64\n",
      "\n",
      "Всего 3 столбца с NAN значениями в 50 строках.\n"
     ]
    },
    {
     "data": {
      "text/plain": [
       "['R&D Spend', 'Marketing Spend', 'Category']"
      ]
     },
     "execution_count": 117,
     "metadata": {},
     "output_type": "execute_result"
    }
   ],
   "source": [
    "# check the Train features with missing values \n",
    "nan_columns = [i for i in train.columns if train[i].isnull().any()]\n",
    "print(train.isnull().sum())\n",
    "print()\n",
    "print(\"Всего \" + str(len(nan_columns)) +\" столбца с NAN значениями в 50 строках.\")\n",
    "nan_columns\n"
   ]
  },
  {
   "cell_type": "code",
   "execution_count": 118,
   "metadata": {},
   "outputs": [
    {
     "name": "stdout",
     "output_type": "stream",
     "text": [
      "R&D Spend          2\n",
      "Administration     2\n",
      "Marketing Spend    0\n",
      "State              1\n",
      "Category           0\n",
      "dtype: int64\n",
      "\n",
      "Всего 3 столбца с NAN значениями в 50 строках.\n"
     ]
    },
    {
     "data": {
      "text/plain": [
       "['R&D Spend', 'Administration', 'State']"
      ]
     },
     "execution_count": 118,
     "metadata": {},
     "output_type": "execute_result"
    }
   ],
   "source": [
    "# check the Test features with missing values\n",
    "nan_columns2 = [i for i in test.columns if test[i].isnull().any()]\n",
    "print(test.isnull().sum())\n",
    "print()\n",
    "print(\"Всего \" + str(len(nan_columns2)) +\" столбца с NAN значениями в 50 строках.\")\n",
    "nan_columns2"
   ]
  },
  {
   "cell_type": "markdown",
   "metadata": {},
   "source": [
    "#### Filling missing values"
   ]
  },
  {
   "cell_type": "markdown",
   "metadata": {},
   "source": [
    "Fields where NAN values have meaning.\n",
    "\n",
    "Explaining in further depth:\n",
    "\n",
    "* 'R&D Spend': Numerical - replacement of NAN by 'mean';\n",
    "* 'Administration': Numerical - replacement of NAN by 'mean';\n",
    "* 'Marketing Spend': Numerical - replacement of NAN by 'mean';\n",
    "* 'State': Categorical - replacement of NAN by 'None';\n",
    "* 'Category': Categorical - replacement of NAN by 'None'."
   ]
  },
  {
   "cell_type": "code",
   "execution_count": 119,
   "metadata": {},
   "outputs": [],
   "source": [
    " # Numerical NAN columns to fill in Train and Test datasets\n",
    "nan_columns_fill = [\n",
    "    'R&D Spend',\n",
    "    'Administration',\n",
    "    'Marketing Spend'\n",
    "    ]\n",
    "\n",
    "# replace 'NAN' with 'mean' in these columns\n",
    "train.fillna(train.mean(), inplace = True)  \n",
    "test.fillna(test.mean(), inplace = True)\n",
    "\n",
    "# Categorical NAN columns to fill in Train and Test datasets\n",
    "na_columns_fill = [\n",
    "    'State', \n",
    "    'Category'\n",
    "    ]\n",
    "\n",
    "# replace 'NAN' with 'None' in these columns\n",
    "for col in na_columns_fill:\n",
    "    train[col].fillna('None', inplace = True)\n",
    "    test[col].fillna('None', inplace = True)"
   ]
  },
  {
   "cell_type": "code",
   "execution_count": 120,
   "metadata": {},
   "outputs": [
    {
     "data": {
      "text/plain": [
       "0"
      ]
     },
     "execution_count": 120,
     "metadata": {},
     "output_type": "execute_result"
    }
   ],
   "source": [
    "# check is there any mising values left in Train\n",
    "train.isnull().sum().sum()"
   ]
  },
  {
   "cell_type": "code",
   "execution_count": 121,
   "metadata": {},
   "outputs": [
    {
     "data": {
      "text/plain": [
       "0"
      ]
     },
     "execution_count": 121,
     "metadata": {},
     "output_type": "execute_result"
    }
   ],
   "source": [
    "# check is there any mising values left in Test\n",
    "test.isnull().sum().sum()"
   ]
  },
  {
   "cell_type": "markdown",
   "metadata": {},
   "source": [
    "#### Visualisation  of Numerical features (regplot)"
   ]
  },
  {
   "cell_type": "code",
   "execution_count": 122,
   "metadata": {},
   "outputs": [
    {
     "name": "stderr",
     "output_type": "stream",
     "text": [
      "C:\\DS\\lib\\site-packages\\seaborn\\_decorators.py:36: FutureWarning: Pass the following variables as keyword args: x, y. From version 0.12, the only valid positional argument will be `data`, and passing other arguments without an explicit keyword will result in an error or misinterpretation.\n",
      "  warnings.warn(\n",
      "C:\\DS\\lib\\site-packages\\seaborn\\_decorators.py:36: FutureWarning: Pass the following variables as keyword args: x, y. From version 0.12, the only valid positional argument will be `data`, and passing other arguments without an explicit keyword will result in an error or misinterpretation.\n",
      "  warnings.warn(\n",
      "C:\\DS\\lib\\site-packages\\seaborn\\_decorators.py:36: FutureWarning: Pass the following variables as keyword args: x, y. From version 0.12, the only valid positional argument will be `data`, and passing other arguments without an explicit keyword will result in an error or misinterpretation.\n",
      "  warnings.warn(\n"
     ]
    },
    {
     "data": {
      "image/png": "[encoded data removed]",
      "text/plain": [
       "<Figure size 1008x432 with 4 Axes>"
      ]
     },
     "metadata": {
      "needs_background": "light"
     },
     "output_type": "display_data"
    }
   ],
   "source": [
    "# numerical features visualisation\n",
    "nr_rows = 2\n",
    "nr_cols = 2\n",
    "\n",
    "fig, axs = plt.subplots(nr_rows, nr_cols, figsize=(nr_cols * 7,nr_rows * 3))\n",
    "\n",
    "num_feats = list(numerical_feats_train)\n",
    "num_feats\n",
    "not_plot = ['Id',  'Profit']\n",
    "plot_num_feats = [c for c in num_feats if c not in not_plot]\n",
    "plot_num_feats\n",
    "\n",
    "for r in range(0, nr_rows):\n",
    "    for c in range(0, nr_cols):  \n",
    "        i = r * nr_cols + c\n",
    "        if i < len(plot_num_feats):\n",
    "            sns.regplot(train[plot_num_feats[i]], train['Profit'], ax = axs[r][c], color = \"blue\" )\n",
    "            stp = stats.pearsonr(train[plot_num_feats[i]], train['Profit'])\n",
    "          \n",
    "            str_title = \"r = \" + \"{0:.2f}\".format(stp[0]) + \"      \" \"p = \" + \"{0:.2f}\".format(stp[1])\n",
    "            axs[r][c].set_title(str_title, fontsize=11)\n",
    "\n",
    "\n",
    "\n",
    "plt.tight_layout()    \n",
    "plt.show()"
   ]
  },
  {
   "cell_type": "code",
   "execution_count": 123,
   "metadata": {
    "scrolled": true
   },
   "outputs": [
    {
     "data": {
      "text/plain": [
       "<AxesSubplot:xlabel='State', ylabel='Profit'>"
      ]
     },
     "execution_count": 123,
     "metadata": {},
     "output_type": "execute_result"
    },
    {
     "data": {
      "image/png": "[encoded data removed]",
      "text/plain": [
       "<Figure size 432x288 with 1 Axes>"
      ]
     },
     "metadata": {
      "needs_background": "light"
     },
     "output_type": "display_data"
    }
   ],
   "source": [
    "# categorical features visualisation\n",
    "# 'Profit' split in 'State' level\n",
    "sns.barplot(x = 'State', y = 'Profit', data = train)"
   ]
  },
  {
   "cell_type": "code",
   "execution_count": 124,
   "metadata": {
    "scrolled": false
   },
   "outputs": [
    {
     "data": {
      "text/plain": [
       "(array([0, 1, 2, 3, 4, 5, 6]),\n",
       " [Text(0, 0, 'Industrials'),\n",
       "  Text(1, 0, 'Technology'),\n",
       "  Text(2, 0, 'Healthcare'),\n",
       "  Text(3, 0, 'Financials'),\n",
       "  Text(4, 0, 'Telecommunications'),\n",
       "  Text(5, 0, 'None'),\n",
       "  Text(6, 0, 'Oil & Gas')])"
      ]
     },
     "execution_count": 124,
     "metadata": {},
     "output_type": "execute_result"
    },
    {
     "data": {
      "image/png": "[encoded data removed]",
      "text/plain": [
       "<Figure size 432x288 with 1 Axes>"
      ]
     },
     "metadata": {
      "needs_background": "light"
     },
     "output_type": "display_data"
    }
   ],
   "source": [
    "# categorical features visualisation\n",
    "# 'Profit' split in 'Category' level\n",
    "sns.barplot(x = 'Category', y = 'Profit', data = train)\n",
    "plt.xticks(rotation=90)"
   ]
  },
  {
   "cell_type": "markdown",
   "metadata": {},
   "source": [
    "## Part 3: Data Wrangling and Transformation."
   ]
  },
  {
   "cell_type": "markdown",
   "metadata": {},
   "source": [
    "* ### One-Hot Encoding"
   ]
  },
  {
   "cell_type": "code",
   "execution_count": 125,
   "metadata": {},
   "outputs": [],
   "source": [
    "# One-Hot Encoding Train dataset\n",
    "train = pd.get_dummies(train,columns=['State', 'Category'])\n",
    "\n",
    "# Drop target variable \n",
    "train = train.drop(columns=['Profit'])\n"
   ]
  },
  {
   "cell_type": "code",
   "execution_count": 126,
   "metadata": {},
   "outputs": [
    {
     "data": {
      "text/html": [
       "<div>\n",
       "<style scoped>\n",
       "    .dataframe tbody tr th:only-of-type {\n",
       "        vertical-align: middle;\n",
       "    }\n",
       "\n",
       "    .dataframe tbody tr th {\n",
       "        vertical-align: top;\n",
       "    }\n",
       "\n",
       "    .dataframe thead th {\n",
       "        text-align: right;\n",
       "    }\n",
       "</style>\n",
       "<table border=\"1\" class=\"dataframe\">\n",
       "  <thead>\n",
       "    <tr style=\"text-align: right;\">\n",
       "      <th></th>\n",
       "      <th>R&amp;D Spend</th>\n",
       "      <th>Administration</th>\n",
       "      <th>Marketing Spend</th>\n",
       "      <th>State_California</th>\n",
       "      <th>State_Florida</th>\n",
       "      <th>State_New York</th>\n",
       "      <th>Category_Financials</th>\n",
       "      <th>Category_Healthcare</th>\n",
       "      <th>Category_Industrials</th>\n",
       "      <th>Category_None</th>\n",
       "      <th>Category_Oil &amp; Gas</th>\n",
       "      <th>Category_Technology</th>\n",
       "      <th>Category_Telecommunications</th>\n",
       "    </tr>\n",
       "    <tr>\n",
       "      <th>ID</th>\n",
       "      <th></th>\n",
       "      <th></th>\n",
       "      <th></th>\n",
       "      <th></th>\n",
       "      <th></th>\n",
       "      <th></th>\n",
       "      <th></th>\n",
       "      <th></th>\n",
       "      <th></th>\n",
       "      <th></th>\n",
       "      <th></th>\n",
       "      <th></th>\n",
       "      <th></th>\n",
       "    </tr>\n",
       "  </thead>\n",
       "  <tbody>\n",
       "    <tr>\n",
       "      <th>0</th>\n",
       "      <td>165349.20</td>\n",
       "      <td>136897.80</td>\n",
       "      <td>471784.10</td>\n",
       "      <td>0</td>\n",
       "      <td>0</td>\n",
       "      <td>1</td>\n",
       "      <td>0</td>\n",
       "      <td>0</td>\n",
       "      <td>1</td>\n",
       "      <td>0</td>\n",
       "      <td>0</td>\n",
       "      <td>0</td>\n",
       "      <td>0</td>\n",
       "    </tr>\n",
       "    <tr>\n",
       "      <th>1</th>\n",
       "      <td>162597.70</td>\n",
       "      <td>151377.59</td>\n",
       "      <td>443898.53</td>\n",
       "      <td>1</td>\n",
       "      <td>0</td>\n",
       "      <td>0</td>\n",
       "      <td>0</td>\n",
       "      <td>0</td>\n",
       "      <td>0</td>\n",
       "      <td>0</td>\n",
       "      <td>0</td>\n",
       "      <td>1</td>\n",
       "      <td>0</td>\n",
       "    </tr>\n",
       "    <tr>\n",
       "      <th>2</th>\n",
       "      <td>153441.51</td>\n",
       "      <td>101145.55</td>\n",
       "      <td>407934.54</td>\n",
       "      <td>0</td>\n",
       "      <td>1</td>\n",
       "      <td>0</td>\n",
       "      <td>0</td>\n",
       "      <td>1</td>\n",
       "      <td>0</td>\n",
       "      <td>0</td>\n",
       "      <td>0</td>\n",
       "      <td>0</td>\n",
       "      <td>0</td>\n",
       "    </tr>\n",
       "    <tr>\n",
       "      <th>3</th>\n",
       "      <td>144372.41</td>\n",
       "      <td>118671.85</td>\n",
       "      <td>383199.62</td>\n",
       "      <td>0</td>\n",
       "      <td>0</td>\n",
       "      <td>1</td>\n",
       "      <td>1</td>\n",
       "      <td>0</td>\n",
       "      <td>0</td>\n",
       "      <td>0</td>\n",
       "      <td>0</td>\n",
       "      <td>0</td>\n",
       "      <td>0</td>\n",
       "    </tr>\n",
       "    <tr>\n",
       "      <th>4</th>\n",
       "      <td>142107.34</td>\n",
       "      <td>91391.77</td>\n",
       "      <td>366168.42</td>\n",
       "      <td>0</td>\n",
       "      <td>1</td>\n",
       "      <td>0</td>\n",
       "      <td>0</td>\n",
       "      <td>0</td>\n",
       "      <td>1</td>\n",
       "      <td>0</td>\n",
       "      <td>0</td>\n",
       "      <td>0</td>\n",
       "      <td>0</td>\n",
       "    </tr>\n",
       "  </tbody>\n",
       "</table>\n",
       "</div>"
      ],
      "text/plain": [
       "    R&D Spend  Administration  Marketing Spend  State_California  \\\n",
       "ID                                                                 \n",
       "0   165349.20       136897.80        471784.10                 0   \n",
       "1   162597.70       151377.59        443898.53                 1   \n",
       "2   153441.51       101145.55        407934.54                 0   \n",
       "3   144372.41       118671.85        383199.62                 0   \n",
       "4   142107.34        91391.77        366168.42                 0   \n",
       "\n",
       "    State_Florida  State_New York  Category_Financials  Category_Healthcare  \\\n",
       "ID                                                                            \n",
       "0               0               1                    0                    0   \n",
       "1               0               0                    0                    0   \n",
       "2               1               0                    0                    1   \n",
       "3               0               1                    1                    0   \n",
       "4               1               0                    0                    0   \n",
       "\n",
       "    Category_Industrials  Category_None  Category_Oil & Gas  \\\n",
       "ID                                                            \n",
       "0                      1              0                   0   \n",
       "1                      0              0                   0   \n",
       "2                      0              0                   0   \n",
       "3                      0              0                   0   \n",
       "4                      1              0                   0   \n",
       "\n",
       "    Category_Technology  Category_Telecommunications  \n",
       "ID                                                    \n",
       "0                     0                            0  \n",
       "1                     1                            0  \n",
       "2                     0                            0  \n",
       "3                     0                            0  \n",
       "4                     0                            0  "
      ]
     },
     "execution_count": 126,
     "metadata": {},
     "output_type": "execute_result"
    }
   ],
   "source": [
    "# preview of the first 5 lines of the loaded Train data \n",
    "train.head()"
   ]
  },
  {
   "cell_type": "code",
   "execution_count": 127,
   "metadata": {},
   "outputs": [
    {
     "data": {
      "text/plain": [
       "(50, 13)"
      ]
     },
     "execution_count": 127,
     "metadata": {},
     "output_type": "execute_result"
    }
   ],
   "source": [
    "# Train data shape\n",
    "train.shape"
   ]
  },
  {
   "cell_type": "code",
   "execution_count": 128,
   "metadata": {},
   "outputs": [],
   "source": [
    "# One Hot-Encoding Test dataset\n",
    "test = pd.get_dummies(test,columns=['State', 'Category'])"
   ]
  },
  {
   "cell_type": "code",
   "execution_count": 129,
   "metadata": {
    "scrolled": true
   },
   "outputs": [
    {
     "data": {
      "text/html": [
       "<div>\n",
       "<style scoped>\n",
       "    .dataframe tbody tr th:only-of-type {\n",
       "        vertical-align: middle;\n",
       "    }\n",
       "\n",
       "    .dataframe tbody tr th {\n",
       "        vertical-align: top;\n",
       "    }\n",
       "\n",
       "    .dataframe thead th {\n",
       "        text-align: right;\n",
       "    }\n",
       "</style>\n",
       "<table border=\"1\" class=\"dataframe\">\n",
       "  <thead>\n",
       "    <tr style=\"text-align: right;\">\n",
       "      <th></th>\n",
       "      <th>R&amp;D Spend</th>\n",
       "      <th>Administration</th>\n",
       "      <th>Marketing Spend</th>\n",
       "      <th>State_California</th>\n",
       "      <th>State_Florida</th>\n",
       "      <th>State_New York</th>\n",
       "      <th>State_None</th>\n",
       "      <th>Category_Financials</th>\n",
       "      <th>Category_Healthcare</th>\n",
       "      <th>Category_Industrials</th>\n",
       "      <th>Category_Oil &amp; Gas</th>\n",
       "      <th>Category_Technology</th>\n",
       "      <th>Category_Telecommunications</th>\n",
       "    </tr>\n",
       "    <tr>\n",
       "      <th>ID</th>\n",
       "      <th></th>\n",
       "      <th></th>\n",
       "      <th></th>\n",
       "      <th></th>\n",
       "      <th></th>\n",
       "      <th></th>\n",
       "      <th></th>\n",
       "      <th></th>\n",
       "      <th></th>\n",
       "      <th></th>\n",
       "      <th></th>\n",
       "      <th></th>\n",
       "      <th></th>\n",
       "    </tr>\n",
       "  </thead>\n",
       "  <tbody>\n",
       "    <tr>\n",
       "      <th>0</th>\n",
       "      <td>165349.20</td>\n",
       "      <td>136897.80</td>\n",
       "      <td>471784.10</td>\n",
       "      <td>0</td>\n",
       "      <td>0</td>\n",
       "      <td>1</td>\n",
       "      <td>0</td>\n",
       "      <td>0</td>\n",
       "      <td>0</td>\n",
       "      <td>1</td>\n",
       "      <td>0</td>\n",
       "      <td>0</td>\n",
       "      <td>0</td>\n",
       "    </tr>\n",
       "    <tr>\n",
       "      <th>1</th>\n",
       "      <td>162597.70</td>\n",
       "      <td>151377.59</td>\n",
       "      <td>443898.53</td>\n",
       "      <td>1</td>\n",
       "      <td>0</td>\n",
       "      <td>0</td>\n",
       "      <td>0</td>\n",
       "      <td>0</td>\n",
       "      <td>0</td>\n",
       "      <td>0</td>\n",
       "      <td>0</td>\n",
       "      <td>1</td>\n",
       "      <td>0</td>\n",
       "    </tr>\n",
       "    <tr>\n",
       "      <th>2</th>\n",
       "      <td>153441.51</td>\n",
       "      <td>101145.55</td>\n",
       "      <td>407934.54</td>\n",
       "      <td>0</td>\n",
       "      <td>1</td>\n",
       "      <td>0</td>\n",
       "      <td>0</td>\n",
       "      <td>0</td>\n",
       "      <td>1</td>\n",
       "      <td>0</td>\n",
       "      <td>0</td>\n",
       "      <td>0</td>\n",
       "      <td>0</td>\n",
       "    </tr>\n",
       "    <tr>\n",
       "      <th>3</th>\n",
       "      <td>144372.41</td>\n",
       "      <td>118671.85</td>\n",
       "      <td>383199.62</td>\n",
       "      <td>0</td>\n",
       "      <td>0</td>\n",
       "      <td>1</td>\n",
       "      <td>0</td>\n",
       "      <td>1</td>\n",
       "      <td>0</td>\n",
       "      <td>0</td>\n",
       "      <td>0</td>\n",
       "      <td>0</td>\n",
       "      <td>0</td>\n",
       "    </tr>\n",
       "    <tr>\n",
       "      <th>4</th>\n",
       "      <td>142107.34</td>\n",
       "      <td>91391.77</td>\n",
       "      <td>366168.42</td>\n",
       "      <td>0</td>\n",
       "      <td>1</td>\n",
       "      <td>0</td>\n",
       "      <td>0</td>\n",
       "      <td>0</td>\n",
       "      <td>0</td>\n",
       "      <td>1</td>\n",
       "      <td>0</td>\n",
       "      <td>0</td>\n",
       "      <td>0</td>\n",
       "    </tr>\n",
       "  </tbody>\n",
       "</table>\n",
       "</div>"
      ],
      "text/plain": [
       "    R&D Spend  Administration  Marketing Spend  State_California  \\\n",
       "ID                                                                 \n",
       "0   165349.20       136897.80        471784.10                 0   \n",
       "1   162597.70       151377.59        443898.53                 1   \n",
       "2   153441.51       101145.55        407934.54                 0   \n",
       "3   144372.41       118671.85        383199.62                 0   \n",
       "4   142107.34        91391.77        366168.42                 0   \n",
       "\n",
       "    State_Florida  State_New York  State_None  Category_Financials  \\\n",
       "ID                                                                   \n",
       "0               0               1           0                    0   \n",
       "1               0               0           0                    0   \n",
       "2               1               0           0                    0   \n",
       "3               0               1           0                    1   \n",
       "4               1               0           0                    0   \n",
       "\n",
       "    Category_Healthcare  Category_Industrials  Category_Oil & Gas  \\\n",
       "ID                                                                  \n",
       "0                     0                     1                   0   \n",
       "1                     0                     0                   0   \n",
       "2                     1                     0                   0   \n",
       "3                     0                     0                   0   \n",
       "4                     0                     1                   0   \n",
       "\n",
       "    Category_Technology  Category_Telecommunications  \n",
       "ID                                                    \n",
       "0                     0                            0  \n",
       "1                     1                            0  \n",
       "2                     0                            0  \n",
       "3                     0                            0  \n",
       "4                     0                            0  "
      ]
     },
     "execution_count": 129,
     "metadata": {},
     "output_type": "execute_result"
    }
   ],
   "source": [
    "# preview of the first 5 lines of the loaded Test data \n",
    "test.head()"
   ]
  },
  {
   "cell_type": "code",
   "execution_count": 130,
   "metadata": {},
   "outputs": [
    {
     "data": {
      "text/plain": [
       "(50, 13)"
      ]
     },
     "execution_count": 130,
     "metadata": {},
     "output_type": "execute_result"
    }
   ],
   "source": [
    "# Test data shape\n",
    "test.shape"
   ]
  },
  {
   "cell_type": "code",
   "execution_count": 131,
   "metadata": {},
   "outputs": [],
   "source": [
    "# Drop unnecessary variables \n",
    "train = train.drop(columns=['Category_None'])\n",
    "test = test.drop(columns=['State_None'])"
   ]
  },
  {
   "cell_type": "markdown",
   "metadata": {},
   "source": [
    "* ### StandardScaler"
   ]
  },
  {
   "cell_type": "code",
   "execution_count": null,
   "metadata": {},
   "outputs": [],
   "source": []
  },
  {
   "cell_type": "markdown",
   "metadata": {},
   "source": [
    "* ### Creating datasets for ML part"
   ]
  },
  {
   "cell_type": "code",
   "execution_count": 132,
   "metadata": {},
   "outputs": [],
   "source": [
    "# set 'X' for features of scaled Train dataset 'sc_train'\n",
    "X = train\n",
    "\n",
    "# set 'y' for the target 'Profit'\n",
    "y = target\n",
    "\n",
    "# 'X_Test' for features of scaled Test dataset 'sc_test'\n",
    "X_Test = test "
   ]
  },
  {
   "cell_type": "markdown",
   "metadata": {},
   "source": [
    "* ### 'Train\\Test' split"
   ]
  },
  {
   "cell_type": "code",
   "execution_count": 133,
   "metadata": {},
   "outputs": [],
   "source": [
    "X_train, X_test, y_train, y_test = train_test_split(X, y, test_size = 0.2, random_state = 0)"
   ]
  },
  {
   "cell_type": "code",
   "execution_count": 134,
   "metadata": {},
   "outputs": [
    {
     "data": {
      "text/plain": [
       "(40, 12)"
      ]
     },
     "execution_count": 134,
     "metadata": {},
     "output_type": "execute_result"
    }
   ],
   "source": [
    "X_train.shape"
   ]
  },
  {
   "cell_type": "code",
   "execution_count": 135,
   "metadata": {},
   "outputs": [
    {
     "data": {
      "text/plain": [
       "(10, 12)"
      ]
     },
     "execution_count": 135,
     "metadata": {},
     "output_type": "execute_result"
    }
   ],
   "source": [
    "X_test.shape"
   ]
  },
  {
   "cell_type": "code",
   "execution_count": null,
   "metadata": {},
   "outputs": [],
   "source": []
  },
  {
   "cell_type": "markdown",
   "metadata": {},
   "source": [
    "## Part 4: Machine Learning."
   ]
  },
  {
   "cell_type": "markdown",
   "metadata": {},
   "source": [
    "* ### Build, train, evaluate and visualise models"
   ]
  },
  {
   "cell_type": "markdown",
   "metadata": {},
   "source": [
    "* #### Linear Regression"
   ]
  },
  {
   "cell_type": "code",
   "execution_count": 138,
   "metadata": {
    "scrolled": true
   },
   "outputs": [
    {
     "data": {
      "text/plain": [
       "array([ 98849.87235257, 122116.57602136, 137849.35501159,  79737.39636388,\n",
       "       188724.567639  , 119834.30660865,  74122.96770212,  68207.69501134,\n",
       "       127610.41193548, 144209.13162721])"
      ]
     },
     "execution_count": 138,
     "metadata": {},
     "output_type": "execute_result"
    }
   ],
   "source": [
    "# Linear Regression model\n",
    "LR = LinearRegression()\n",
    "\n",
    "# Model Training\n",
    "LR.fit(X_train, y_train)\n",
    "# Model Prediction\n",
    "LR_pred = LR.predict(X_test)\n",
    "LR_pred"
   ]
  },
  {
   "cell_type": "code",
   "execution_count": 141,
   "metadata": {},
   "outputs": [
    {
     "data": {
      "text/plain": [
       "0.8048427033696935"
      ]
     },
     "execution_count": 141,
     "metadata": {},
     "output_type": "execute_result"
    }
   ],
   "source": [
    "# Model R2 score\n",
    "LRscore = r2_score(y_test,LR_pred)\n",
    "LRscore"
   ]
  },
  {
   "cell_type": "code",
   "execution_count": 143,
   "metadata": {
    "scrolled": true
   },
   "outputs": [
    {
     "data": {
      "text/html": [
       "<div>\n",
       "<style scoped>\n",
       "    .dataframe tbody tr th:only-of-type {\n",
       "        vertical-align: middle;\n",
       "    }\n",
       "\n",
       "    .dataframe tbody tr th {\n",
       "        vertical-align: top;\n",
       "    }\n",
       "\n",
       "    .dataframe thead th {\n",
       "        text-align: right;\n",
       "    }\n",
       "</style>\n",
       "<table border=\"1\" class=\"dataframe\">\n",
       "  <thead>\n",
       "    <tr style=\"text-align: right;\">\n",
       "      <th></th>\n",
       "      <th>Model</th>\n",
       "      <th>r2score</th>\n",
       "      <th>MAE</th>\n",
       "      <th>MSE</th>\n",
       "      <th>RMSE</th>\n",
       "      <th>MSLE</th>\n",
       "      <th>RMSLE</th>\n",
       "    </tr>\n",
       "  </thead>\n",
       "  <tbody>\n",
       "    <tr>\n",
       "      <th>1</th>\n",
       "      <td>Linear Regression</td>\n",
       "      <td>0.804843</td>\n",
       "      <td>12955.723954</td>\n",
       "      <td>2.495850e+08</td>\n",
       "      <td>15798.26022</td>\n",
       "      <td>0.022844</td>\n",
       "      <td>0.151142</td>\n",
       "    </tr>\n",
       "  </tbody>\n",
       "</table>\n",
       "</div>"
      ],
      "text/plain": [
       "               Model   r2score           MAE           MSE         RMSE  \\\n",
       "1  Linear Regression  0.804843  12955.723954  2.495850e+08  15798.26022   \n",
       "\n",
       "       MSLE     RMSLE  \n",
       "1  0.022844  0.151142  "
      ]
     },
     "execution_count": 143,
     "metadata": {},
     "output_type": "execute_result"
    }
   ],
   "source": [
    "# Model Metrics\n",
    "LRMetrics = pd.DataFrame({'Model':  'Linear Regression',\n",
    "                          'r2score': r2_score(y_test,LR_pred),\n",
    "                          'MAE':     metrics.mean_absolute_error (y_test,LR_pred),\n",
    "                          'MSE':     metrics.mean_squared_error(y_test,LR_pred),\n",
    "                          'RMSE':    np.sqrt(metrics.mean_squared_error(y_test,LR_pred)),\n",
    "                          'MSLE':    metrics.mean_squared_log_error(y_test,LR_pred),\n",
    "                          'RMSLE':   np.sqrt(metrics.mean_squared_log_error(y_test,LR_pred))             \n",
    "                          },index=[1])\n",
    "\n",
    "LRMetrics"
   ]
  },
  {
   "cell_type": "code",
   "execution_count": 146,
   "metadata": {},
   "outputs": [
    {
     "data": {
      "image/png": "[encoded data removed]",
      "text/plain": [
       "<Figure size 576x360 with 1 Axes>"
      ]
     },
     "metadata": {
      "needs_background": "light"
     },
     "output_type": "display_data"
    }
   ],
   "source": [
    "# visualisation of Train dataset predictions\n",
    "\n",
    "# Plot outputs\n",
    "plt.figure(figsize=(8,5))\n",
    "pl.plot(y_test, LR_pred,'ro')\n",
    "pl.plot([0,200000],[0,200000],'b-')\n",
    "pl.xlabel('Predicted Profit')\n",
    "pl.ylabel('Profit')\n",
    "pl.show()"
   ]
  },
  {
   "cell_type": "code",
   "execution_count": 147,
   "metadata": {
    "scrolled": true
   },
   "outputs": [
    {
     "data": {
      "text/plain": [
       "array([173556.09495044, 187967.14767515, 188724.567639  , 172877.72255146,\n",
       "       144209.13162721, 168221.23679833, 148367.14478943, 158208.22321084,\n",
       "       161165.08185437, 155314.16817928, 139028.06597658, 122116.57602136,\n",
       "       124976.36184849,  99895.94052266, 145787.24608804, 138718.54629535,\n",
       "       114058.80381785, 129625.91207613, 126710.5870917 , 121647.33269778,\n",
       "       112691.17888279, 124078.09761898, 127610.41193548, 110723.01425093,\n",
       "       110815.49753242, 101995.61110881, 102934.30057725, 119834.30660865,\n",
       "        97258.81612859,  96726.05169651,  98266.60903382,  68207.69501134,\n",
       "        80982.61349776,  93661.99438271,  98646.77730349,  83994.50516695,\n",
       "        76730.53551093,  82200.5145506 ,  74122.96770212,  75387.61205895,\n",
       "        86575.89685153,  79737.39636388,  72363.97251989,  69758.98000012,\n",
       "        54185.66118755,  48960.60087956,  69580.80225684, 103029.5644045 ,\n",
       "        38945.90579039,  67798.54452667])"
      ]
     },
     "execution_count": 147,
     "metadata": {},
     "output_type": "execute_result"
    }
   ],
   "source": [
    "# Test final predictions\n",
    "LR_pred1 = LR.predict(X_Test)\n",
    "LR_pred1  "
   ]
  },
  {
   "cell_type": "code",
   "execution_count": 148,
   "metadata": {},
   "outputs": [
    {
     "data": {
      "text/html": [
       "<div>\n",
       "<style scoped>\n",
       "    .dataframe tbody tr th:only-of-type {\n",
       "        vertical-align: middle;\n",
       "    }\n",
       "\n",
       "    .dataframe tbody tr th {\n",
       "        vertical-align: top;\n",
       "    }\n",
       "\n",
       "    .dataframe thead th {\n",
       "        text-align: right;\n",
       "    }\n",
       "</style>\n",
       "<table border=\"1\" class=\"dataframe\">\n",
       "  <thead>\n",
       "    <tr style=\"text-align: right;\">\n",
       "      <th></th>\n",
       "      <th>Model</th>\n",
       "      <th>r2score</th>\n",
       "      <th>MAE</th>\n",
       "      <th>MSE</th>\n",
       "      <th>RMSE</th>\n",
       "      <th>MSLE</th>\n",
       "      <th>RMSLE</th>\n",
       "    </tr>\n",
       "  </thead>\n",
       "  <tbody>\n",
       "    <tr>\n",
       "      <th>1</th>\n",
       "      <td>Linear Regression</td>\n",
       "      <td>0.830464</td>\n",
       "      <td>11273.146641</td>\n",
       "      <td>2.699175e+08</td>\n",
       "      <td>16429.166532</td>\n",
       "      <td>0.077442</td>\n",
       "      <td>0.278283</td>\n",
       "    </tr>\n",
       "  </tbody>\n",
       "</table>\n",
       "</div>"
      ],
      "text/plain": [
       "               Model   r2score           MAE           MSE          RMSE  \\\n",
       "1  Linear Regression  0.830464  11273.146641  2.699175e+08  16429.166532   \n",
       "\n",
       "       MSLE     RMSLE  \n",
       "1  0.077442  0.278283  "
      ]
     },
     "execution_count": 148,
     "metadata": {},
     "output_type": "execute_result"
    }
   ],
   "source": [
    "# Model Metrics\n",
    "LRMetrics1 = pd.DataFrame({'Model':   'Linear Regression',\n",
    "                           'r2score': r2_score(y,LR_pred1),\n",
    "                           'MAE':     metrics.mean_absolute_error (y,LR_pred1),\n",
    "                           'MSE':     metrics.mean_squared_error(y,LR_pred1),\n",
    "                           'RMSE':    np.sqrt(metrics.mean_squared_error(y,LR_pred1)),\n",
    "                           'MSLE':    metrics.mean_squared_log_error(y,LR_pred1),\n",
    "                           'RMSLE':   np.sqrt(metrics.mean_squared_log_error(y,LR_pred1))             \n",
    "                           },index=[1])\n",
    "\n",
    "LRMetrics1"
   ]
  },
  {
   "cell_type": "code",
   "execution_count": 156,
   "metadata": {},
   "outputs": [
    {
     "data": {
      "image/png": "[encoded data removed]",
      "text/plain": [
       "<Figure size 576x360 with 1 Axes>"
      ]
     },
     "metadata": {
      "needs_background": "light"
     },
     "output_type": "display_data"
    }
   ],
   "source": [
    "# visualisation of Test dataset predictions\n",
    "\n",
    "# Plot outputs\n",
    "plt.figure(figsize=(8,5))\n",
    "pl.plot(y, LR_pred1,'bo')\n",
    "pl.plot([0,200000],[0,200000],'g-')\n",
    "pl.xlabel('Predicted Profit')\n",
    "pl.ylabel('Profit')\n",
    "pl.show()"
   ]
  },
  {
   "cell_type": "code",
   "execution_count": 165,
   "metadata": {
    "scrolled": false
   },
   "outputs": [
    {
     "data": {
      "text/html": [
       "<style  type=\"text/css\" >\n",
       "#T_a17fcdc4_b0b8_11eb_990b_803049342980row0_col0,#T_a17fcdc4_b0b8_11eb_990b_803049342980row2_col1{\n",
       "            background-color:  #014636;\n",
       "            color:  #f1f1f1;\n",
       "        }#T_a17fcdc4_b0b8_11eb_990b_803049342980row0_col1{\n",
       "            background-color:  #288cb1;\n",
       "            color:  #000000;\n",
       "        }#T_a17fcdc4_b0b8_11eb_990b_803049342980row1_col0{\n",
       "            background-color:  #014838;\n",
       "            color:  #f1f1f1;\n",
       "        }#T_a17fcdc4_b0b8_11eb_990b_803049342980row1_col1{\n",
       "            background-color:  #014b3a;\n",
       "            color:  #f1f1f1;\n",
       "        }#T_a17fcdc4_b0b8_11eb_990b_803049342980row2_col0{\n",
       "            background-color:  #014e3e;\n",
       "            color:  #f1f1f1;\n",
       "        }#T_a17fcdc4_b0b8_11eb_990b_803049342980row3_col0{\n",
       "            background-color:  #027c7e;\n",
       "            color:  #f1f1f1;\n",
       "        }#T_a17fcdc4_b0b8_11eb_990b_803049342980row3_col1{\n",
       "            background-color:  #2e8eb8;\n",
       "            color:  #000000;\n",
       "        }#T_a17fcdc4_b0b8_11eb_990b_803049342980row4_col0{\n",
       "            background-color:  #a1bcda;\n",
       "            color:  #000000;\n",
       "        }#T_a17fcdc4_b0b8_11eb_990b_803049342980row4_col1,#T_a17fcdc4_b0b8_11eb_990b_803049342980row9_col0{\n",
       "            background-color:  #fff7fb;\n",
       "            color:  #000000;\n",
       "        }#T_a17fcdc4_b0b8_11eb_990b_803049342980row5_col0{\n",
       "            background-color:  #e2dced;\n",
       "            color:  #000000;\n",
       "        }#T_a17fcdc4_b0b8_11eb_990b_803049342980row5_col1{\n",
       "            background-color:  #57a1ca;\n",
       "            color:  #000000;\n",
       "        }#T_a17fcdc4_b0b8_11eb_990b_803049342980row6_col0{\n",
       "            background-color:  #e7dfee;\n",
       "            color:  #000000;\n",
       "        }#T_a17fcdc4_b0b8_11eb_990b_803049342980row6_col1{\n",
       "            background-color:  #f1e8f3;\n",
       "            color:  #000000;\n",
       "        }#T_a17fcdc4_b0b8_11eb_990b_803049342980row7_col0{\n",
       "            background-color:  #e8e0ef;\n",
       "            color:  #000000;\n",
       "        }#T_a17fcdc4_b0b8_11eb_990b_803049342980row7_col1{\n",
       "            background-color:  #bbc7e0;\n",
       "            color:  #000000;\n",
       "        }#T_a17fcdc4_b0b8_11eb_990b_803049342980row8_col0{\n",
       "            background-color:  #f7eef6;\n",
       "            color:  #000000;\n",
       "        }#T_a17fcdc4_b0b8_11eb_990b_803049342980row8_col1{\n",
       "            background-color:  #a3bcda;\n",
       "            color:  #000000;\n",
       "        }#T_a17fcdc4_b0b8_11eb_990b_803049342980row9_col1{\n",
       "            background-color:  #d1d1e6;\n",
       "            color:  #000000;\n",
       "        }</style><table id=\"T_a17fcdc4_b0b8_11eb_990b_803049342980\" ><thead>    <tr>        <th class=\"blank level0\" ></th>        <th class=\"col_heading level0 col0\" >Actual Profit</th>        <th class=\"col_heading level0 col1\" >LR Predicted Profit</th>    </tr></thead><tbody>\n",
       "                <tr>\n",
       "                        <th id=\"T_a17fcdc4_b0b8_11eb_990b_803049342980level0_row0\" class=\"row_heading level0 row0\" >0</th>\n",
       "                        <td id=\"T_a17fcdc4_b0b8_11eb_990b_803049342980row0_col0\" class=\"data row0 col0\" >192261.830000</td>\n",
       "                        <td id=\"T_a17fcdc4_b0b8_11eb_990b_803049342980row0_col1\" class=\"data row0 col1\" >173556.094950</td>\n",
       "            </tr>\n",
       "            <tr>\n",
       "                        <th id=\"T_a17fcdc4_b0b8_11eb_990b_803049342980level0_row1\" class=\"row_heading level0 row1\" >1</th>\n",
       "                        <td id=\"T_a17fcdc4_b0b8_11eb_990b_803049342980row1_col0\" class=\"data row1 col0\" >191792.060000</td>\n",
       "                        <td id=\"T_a17fcdc4_b0b8_11eb_990b_803049342980row1_col1\" class=\"data row1 col1\" >187967.147675</td>\n",
       "            </tr>\n",
       "            <tr>\n",
       "                        <th id=\"T_a17fcdc4_b0b8_11eb_990b_803049342980level0_row2\" class=\"row_heading level0 row2\" >2</th>\n",
       "                        <td id=\"T_a17fcdc4_b0b8_11eb_990b_803049342980row2_col0\" class=\"data row2 col0\" >191050.390000</td>\n",
       "                        <td id=\"T_a17fcdc4_b0b8_11eb_990b_803049342980row2_col1\" class=\"data row2 col1\" >188724.567639</td>\n",
       "            </tr>\n",
       "            <tr>\n",
       "                        <th id=\"T_a17fcdc4_b0b8_11eb_990b_803049342980level0_row3\" class=\"row_heading level0 row3\" >3</th>\n",
       "                        <td id=\"T_a17fcdc4_b0b8_11eb_990b_803049342980row3_col0\" class=\"data row3 col0\" >182901.990000</td>\n",
       "                        <td id=\"T_a17fcdc4_b0b8_11eb_990b_803049342980row3_col1\" class=\"data row3 col1\" >172877.722551</td>\n",
       "            </tr>\n",
       "            <tr>\n",
       "                        <th id=\"T_a17fcdc4_b0b8_11eb_990b_803049342980level0_row4\" class=\"row_heading level0 row4\" >4</th>\n",
       "                        <td id=\"T_a17fcdc4_b0b8_11eb_990b_803049342980row4_col0\" class=\"data row4 col0\" >166187.940000</td>\n",
       "                        <td id=\"T_a17fcdc4_b0b8_11eb_990b_803049342980row4_col1\" class=\"data row4 col1\" >144209.131627</td>\n",
       "            </tr>\n",
       "            <tr>\n",
       "                        <th id=\"T_a17fcdc4_b0b8_11eb_990b_803049342980level0_row5\" class=\"row_heading level0 row5\" >5</th>\n",
       "                        <td id=\"T_a17fcdc4_b0b8_11eb_990b_803049342980row5_col0\" class=\"data row5 col0\" >156991.120000</td>\n",
       "                        <td id=\"T_a17fcdc4_b0b8_11eb_990b_803049342980row5_col1\" class=\"data row5 col1\" >168221.236798</td>\n",
       "            </tr>\n",
       "            <tr>\n",
       "                        <th id=\"T_a17fcdc4_b0b8_11eb_990b_803049342980level0_row6\" class=\"row_heading level0 row6\" >6</th>\n",
       "                        <td id=\"T_a17fcdc4_b0b8_11eb_990b_803049342980row6_col0\" class=\"data row6 col0\" >156122.510000</td>\n",
       "                        <td id=\"T_a17fcdc4_b0b8_11eb_990b_803049342980row6_col1\" class=\"data row6 col1\" >148367.144789</td>\n",
       "            </tr>\n",
       "            <tr>\n",
       "                        <th id=\"T_a17fcdc4_b0b8_11eb_990b_803049342980level0_row7\" class=\"row_heading level0 row7\" >7</th>\n",
       "                        <td id=\"T_a17fcdc4_b0b8_11eb_990b_803049342980row7_col0\" class=\"data row7 col0\" >155752.600000</td>\n",
       "                        <td id=\"T_a17fcdc4_b0b8_11eb_990b_803049342980row7_col1\" class=\"data row7 col1\" >158208.223211</td>\n",
       "            </tr>\n",
       "            <tr>\n",
       "                        <th id=\"T_a17fcdc4_b0b8_11eb_990b_803049342980level0_row8\" class=\"row_heading level0 row8\" >8</th>\n",
       "                        <td id=\"T_a17fcdc4_b0b8_11eb_990b_803049342980row8_col0\" class=\"data row8 col0\" >152211.770000</td>\n",
       "                        <td id=\"T_a17fcdc4_b0b8_11eb_990b_803049342980row8_col1\" class=\"data row8 col1\" >161165.081854</td>\n",
       "            </tr>\n",
       "            <tr>\n",
       "                        <th id=\"T_a17fcdc4_b0b8_11eb_990b_803049342980level0_row9\" class=\"row_heading level0 row9\" >9</th>\n",
       "                        <td id=\"T_a17fcdc4_b0b8_11eb_990b_803049342980row9_col0\" class=\"data row9 col0\" >149759.960000</td>\n",
       "                        <td id=\"T_a17fcdc4_b0b8_11eb_990b_803049342980row9_col1\" class=\"data row9 col1\" >155314.168179</td>\n",
       "            </tr>\n",
       "    </tbody></table>"
      ],
      "text/plain": [
       "<pandas.io.formats.style.Styler at 0x1d539ef55b0>"
      ]
     },
     "execution_count": 165,
     "metadata": {},
     "output_type": "execute_result"
    }
   ],
   "source": [
    "# comparison between Actual 'Profit' from Train dataset abd Predicted 'Profit' from Test dataset\n",
    "actualvspredicted = pd.DataFrame({\"Actual Profit\":y,\"LR Predicted Profit\":LR_pred1 })\n",
    "actualvspredicted.head(10).style.background_gradient(cmap='PuBuGn')"
   ]
  },
  {
   "cell_type": "markdown",
   "metadata": {},
   "source": [
    "* #### Gradient Boosting Regressor"
   ]
  },
  {
   "cell_type": "code",
   "execution_count": 174,
   "metadata": {},
   "outputs": [
    {
     "data": {
      "text/plain": [
       "0.8824847873927326"
      ]
     },
     "execution_count": 174,
     "metadata": {},
     "output_type": "execute_result"
    }
   ],
   "source": [
    "# Gradient Boosting Regressor model\n",
    "GBR = GradientBoostingRegressor(random_state=0)\n",
    "\n",
    "# Model Training\n",
    "GBR.fit(X_train, y_train)\n",
    "\n",
    "# Model Prediction\n",
    "GBR_pred=GBR.predict(X_test)\n",
    "\n",
    "# Model R2 score\n",
    "GBRscore = GBR.score(X_test, y_test)\n",
    "GBRscore"
   ]
  },
  {
   "cell_type": "code",
   "execution_count": 178,
   "metadata": {},
   "outputs": [
    {
     "data": {
      "text/html": [
       "<div>\n",
       "<style scoped>\n",
       "    .dataframe tbody tr th:only-of-type {\n",
       "        vertical-align: middle;\n",
       "    }\n",
       "\n",
       "    .dataframe tbody tr th {\n",
       "        vertical-align: top;\n",
       "    }\n",
       "\n",
       "    .dataframe thead th {\n",
       "        text-align: right;\n",
       "    }\n",
       "</style>\n",
       "<table border=\"1\" class=\"dataframe\">\n",
       "  <thead>\n",
       "    <tr style=\"text-align: right;\">\n",
       "      <th></th>\n",
       "      <th>Model</th>\n",
       "      <th>r2score</th>\n",
       "      <th>MAE</th>\n",
       "      <th>MSE</th>\n",
       "      <th>RMSE</th>\n",
       "      <th>MSLE</th>\n",
       "      <th>RMSLE</th>\n",
       "    </tr>\n",
       "  </thead>\n",
       "  <tbody>\n",
       "    <tr>\n",
       "      <th>1</th>\n",
       "      <td>Gradient Boosting Regressor</td>\n",
       "      <td>0.882485</td>\n",
       "      <td>9208.788341</td>\n",
       "      <td>1.502892e+08</td>\n",
       "      <td>12259.250281</td>\n",
       "      <td>0.018955</td>\n",
       "      <td>0.137676</td>\n",
       "    </tr>\n",
       "  </tbody>\n",
       "</table>\n",
       "</div>"
      ],
      "text/plain": [
       "                         Model   r2score          MAE           MSE  \\\n",
       "1  Gradient Boosting Regressor  0.882485  9208.788341  1.502892e+08   \n",
       "\n",
       "           RMSE      MSLE     RMSLE  \n",
       "1  12259.250281  0.018955  0.137676  "
      ]
     },
     "execution_count": 178,
     "metadata": {},
     "output_type": "execute_result"
    }
   ],
   "source": [
    "# Model Metrics\n",
    "GBRMetrics = pd.DataFrame({'Model':   'Gradient Boosting Regressor',\n",
    "                           'r2score': r2_score(y_test,GBR_pred),\n",
    "                           'MAE':     metrics.mean_absolute_error (y_test,GBR_pred),\n",
    "                           'MSE':     metrics.mean_squared_error(y_test,GBR_pred),\n",
    "                           'RMSE':    np.sqrt(metrics.mean_squared_error(y_test,GBR_pred)),\n",
    "                           'MSLE':    metrics.mean_squared_log_error(y_test,GBR_pred),\n",
    "                           'RMSLE':   np.sqrt(metrics.mean_squared_log_error(y_test,GBR_pred))             \n",
    "                           },index=[1])\n",
    "\n",
    "GBRMetrics"
   ]
  },
  {
   "cell_type": "code",
   "execution_count": 177,
   "metadata": {},
   "outputs": [
    {
     "data": {
      "text/plain": [
       "array([191913.10015877, 191707.76242458, 182033.33425339, 182784.9460071 ,\n",
       "       167605.80505737, 156980.43552722, 156120.14765574, 156074.69551261,\n",
       "       151674.58020592, 150172.19900136, 133949.76538291, 135704.3860381 ,\n",
       "       140698.3133958 , 134428.58372692, 132615.92953885, 130451.53720739,\n",
       "       125818.14268686, 125999.65808307, 125027.49596068, 122474.81800804,\n",
       "       117260.08855308, 111574.22224044, 111019.15391077, 109171.13240221,\n",
       "       108293.55755732, 106789.41652237, 105233.26740018, 112590.56621151,\n",
       "       101014.51997724, 101563.75263313,  99968.24272349,  67951.76504731,\n",
       "        97333.97128401,  97233.70664379,  96689.70008757,  96269.8796492 ,\n",
       "        90335.02978328,  89678.37450663,  68351.65916233,  81144.62161668,\n",
       "        84069.76196763,  85232.63741053,  71397.05526255,  69837.4981078 ,\n",
       "        65365.18545324,  64934.33775248,  49667.63012525,  51946.15542711,\n",
       "        52674.25107637,  14623.24321345])"
      ]
     },
     "execution_count": 177,
     "metadata": {},
     "output_type": "execute_result"
    }
   ],
   "source": [
    "# Test final predictions\n",
    "GBR_pred1 = GBR.predict(X_Test)\n",
    "GBR_pred1"
   ]
  },
  {
   "cell_type": "code",
   "execution_count": 179,
   "metadata": {},
   "outputs": [
    {
     "data": {
      "text/html": [
       "<div>\n",
       "<style scoped>\n",
       "    .dataframe tbody tr th:only-of-type {\n",
       "        vertical-align: middle;\n",
       "    }\n",
       "\n",
       "    .dataframe tbody tr th {\n",
       "        vertical-align: top;\n",
       "    }\n",
       "\n",
       "    .dataframe thead th {\n",
       "        text-align: right;\n",
       "    }\n",
       "</style>\n",
       "<table border=\"1\" class=\"dataframe\">\n",
       "  <thead>\n",
       "    <tr style=\"text-align: right;\">\n",
       "      <th></th>\n",
       "      <th>Model</th>\n",
       "      <th>r2score</th>\n",
       "      <th>MAE</th>\n",
       "      <th>MSE</th>\n",
       "      <th>RMSE</th>\n",
       "      <th>MSLE</th>\n",
       "      <th>RMSLE</th>\n",
       "    </tr>\n",
       "  </thead>\n",
       "  <tbody>\n",
       "    <tr>\n",
       "      <th>1</th>\n",
       "      <td>Gradient Boosting Regressor</td>\n",
       "      <td>0.976388</td>\n",
       "      <td>2720.496801</td>\n",
       "      <td>3.759267e+07</td>\n",
       "      <td>6131.286289</td>\n",
       "      <td>0.007695</td>\n",
       "      <td>0.087723</td>\n",
       "    </tr>\n",
       "  </tbody>\n",
       "</table>\n",
       "</div>"
      ],
      "text/plain": [
       "                         Model   r2score          MAE           MSE  \\\n",
       "1  Gradient Boosting Regressor  0.976388  2720.496801  3.759267e+07   \n",
       "\n",
       "          RMSE      MSLE     RMSLE  \n",
       "1  6131.286289  0.007695  0.087723  "
      ]
     },
     "execution_count": 179,
     "metadata": {},
     "output_type": "execute_result"
    }
   ],
   "source": [
    "# Model Metrics\n",
    "GBRMetrics1 = pd.DataFrame({'Model':   'Gradient Boosting Regressor',\n",
    "                           'r2score': r2_score(y,GBR_pred1),\n",
    "                           'MAE':     metrics.mean_absolute_error (y,GBR_pred1),\n",
    "                           'MSE':     metrics.mean_squared_error(y,GBR_pred1),\n",
    "                           'RMSE':    np.sqrt(metrics.mean_squared_error(y,GBR_pred1)),\n",
    "                           'MSLE':    metrics.mean_squared_log_error(y,GBR_pred1),\n",
    "                           'RMSLE':   np.sqrt(metrics.mean_squared_log_error(y,GBR_pred1))             \n",
    "                           },index=[1])\n",
    "\n",
    "GBRMetrics1"
   ]
  },
  {
   "cell_type": "code",
   "execution_count": 182,
   "metadata": {},
   "outputs": [
    {
     "data": {
      "image/png": "[encoded data removed]",
      "text/plain": [
       "<Figure size 576x360 with 1 Axes>"
      ]
     },
     "metadata": {
      "needs_background": "light"
     },
     "output_type": "display_data"
    }
   ],
   "source": [
    "# visualisation of Test dataset predictions\n",
    "\n",
    "# Plot outputs\n",
    "plt.figure(figsize=(8,5))\n",
    "pl.plot(y, GBR_pred1,'bo')\n",
    "pl.plot([0,200000],[0,200000], 'r-')\n",
    "pl.xlabel('Predicted Profit')\n",
    "pl.ylabel('Profit')\n",
    "pl.show()"
   ]
  },
  {
   "cell_type": "markdown",
   "metadata": {},
   "source": [
    "### Model comparison"
   ]
  },
  {
   "cell_type": "code",
   "execution_count": 185,
   "metadata": {
    "scrolled": true
   },
   "outputs": [
    {
     "data": {
      "text/html": [
       "<div>\n",
       "<style scoped>\n",
       "    .dataframe tbody tr th:only-of-type {\n",
       "        vertical-align: middle;\n",
       "    }\n",
       "\n",
       "    .dataframe tbody tr th {\n",
       "        vertical-align: top;\n",
       "    }\n",
       "\n",
       "    .dataframe thead th {\n",
       "        text-align: right;\n",
       "    }\n",
       "</style>\n",
       "<table border=\"1\" class=\"dataframe\">\n",
       "  <thead>\n",
       "    <tr style=\"text-align: right;\">\n",
       "      <th></th>\n",
       "      <th>Model</th>\n",
       "      <th>r2score</th>\n",
       "      <th>MAE</th>\n",
       "      <th>MSE</th>\n",
       "      <th>RMSE</th>\n",
       "      <th>MSLE</th>\n",
       "      <th>RMSLE</th>\n",
       "    </tr>\n",
       "  </thead>\n",
       "  <tbody>\n",
       "    <tr>\n",
       "      <th>1</th>\n",
       "      <td>Linear Regression</td>\n",
       "      <td>0.830464</td>\n",
       "      <td>11273.146641</td>\n",
       "      <td>2.699175e+08</td>\n",
       "      <td>16429.166532</td>\n",
       "      <td>0.077442</td>\n",
       "      <td>0.278283</td>\n",
       "    </tr>\n",
       "    <tr>\n",
       "      <th>1</th>\n",
       "      <td>Gradient Boosting Regressor</td>\n",
       "      <td>0.976388</td>\n",
       "      <td>2720.496801</td>\n",
       "      <td>3.759267e+07</td>\n",
       "      <td>6131.286289</td>\n",
       "      <td>0.007695</td>\n",
       "      <td>0.087723</td>\n",
       "    </tr>\n",
       "  </tbody>\n",
       "</table>\n",
       "</div>"
      ],
      "text/plain": [
       "                         Model   r2score           MAE           MSE  \\\n",
       "1            Linear Regression  0.830464  11273.146641  2.699175e+08   \n",
       "1  Gradient Boosting Regressor  0.976388   2720.496801  3.759267e+07   \n",
       "\n",
       "           RMSE      MSLE     RMSLE  \n",
       "1  16429.166532  0.077442  0.278283  \n",
       "1   6131.286289  0.007695  0.087723  "
      ]
     },
     "execution_count": 185,
     "metadata": {},
     "output_type": "execute_result"
    }
   ],
   "source": [
    "# score comparison of models\n",
    "frames = [LRMetrics1,GBRMetrics1]\n",
    "TrainingResult = pd.concat(frames)\n",
    "TrainingResult"
   ]
  },
  {
   "cell_type": "code",
   "execution_count": 187,
   "metadata": {
    "scrolled": false
   },
   "outputs": [
    {
     "data": {
      "text/html": [
       "<style  type=\"text/css\" >\n",
       "#T_4cadb380_b0ba_11eb_85c0_803049342980row0_col0,#T_4cadb380_b0ba_11eb_85c0_803049342980row0_col1,#T_4cadb380_b0ba_11eb_85c0_803049342980row2_col2{\n",
       "            background-color:  #014636;\n",
       "            color:  #f1f1f1;\n",
       "        }#T_4cadb380_b0ba_11eb_85c0_803049342980row0_col2{\n",
       "            background-color:  #288cb1;\n",
       "            color:  #000000;\n",
       "        }#T_4cadb380_b0ba_11eb_85c0_803049342980row1_col0{\n",
       "            background-color:  #014838;\n",
       "            color:  #f1f1f1;\n",
       "        }#T_4cadb380_b0ba_11eb_85c0_803049342980row1_col1{\n",
       "            background-color:  #014737;\n",
       "            color:  #f1f1f1;\n",
       "        }#T_4cadb380_b0ba_11eb_85c0_803049342980row1_col2{\n",
       "            background-color:  #014b3a;\n",
       "            color:  #f1f1f1;\n",
       "        }#T_4cadb380_b0ba_11eb_85c0_803049342980row2_col0{\n",
       "            background-color:  #014e3e;\n",
       "            color:  #f1f1f1;\n",
       "        }#T_4cadb380_b0ba_11eb_85c0_803049342980row2_col1{\n",
       "            background-color:  #027f84;\n",
       "            color:  #f1f1f1;\n",
       "        }#T_4cadb380_b0ba_11eb_85c0_803049342980row3_col0{\n",
       "            background-color:  #027c7e;\n",
       "            color:  #f1f1f1;\n",
       "        }#T_4cadb380_b0ba_11eb_85c0_803049342980row3_col1{\n",
       "            background-color:  #027b7d;\n",
       "            color:  #f1f1f1;\n",
       "        }#T_4cadb380_b0ba_11eb_85c0_803049342980row3_col2{\n",
       "            background-color:  #2e8eb8;\n",
       "            color:  #000000;\n",
       "        }#T_4cadb380_b0ba_11eb_85c0_803049342980row4_col0{\n",
       "            background-color:  #a1bcda;\n",
       "            color:  #000000;\n",
       "        }#T_4cadb380_b0ba_11eb_85c0_803049342980row4_col1{\n",
       "            background-color:  #91b6d7;\n",
       "            color:  #000000;\n",
       "        }#T_4cadb380_b0ba_11eb_85c0_803049342980row4_col2,#T_4cadb380_b0ba_11eb_85c0_803049342980row9_col0,#T_4cadb380_b0ba_11eb_85c0_803049342980row9_col1{\n",
       "            background-color:  #fff7fb;\n",
       "            color:  #000000;\n",
       "        }#T_4cadb380_b0ba_11eb_85c0_803049342980row5_col0{\n",
       "            background-color:  #e2dced;\n",
       "            color:  #000000;\n",
       "        }#T_4cadb380_b0ba_11eb_85c0_803049342980row5_col1{\n",
       "            background-color:  #e4dded;\n",
       "            color:  #000000;\n",
       "        }#T_4cadb380_b0ba_11eb_85c0_803049342980row5_col2{\n",
       "            background-color:  #57a1ca;\n",
       "            color:  #000000;\n",
       "        }#T_4cadb380_b0ba_11eb_85c0_803049342980row6_col0{\n",
       "            background-color:  #e7dfee;\n",
       "            color:  #000000;\n",
       "        }#T_4cadb380_b0ba_11eb_85c0_803049342980row6_col1,#T_4cadb380_b0ba_11eb_85c0_803049342980row7_col0,#T_4cadb380_b0ba_11eb_85c0_803049342980row7_col1{\n",
       "            background-color:  #e8e0ef;\n",
       "            color:  #000000;\n",
       "        }#T_4cadb380_b0ba_11eb_85c0_803049342980row6_col2{\n",
       "            background-color:  #f1e8f3;\n",
       "            color:  #000000;\n",
       "        }#T_4cadb380_b0ba_11eb_85c0_803049342980row7_col2{\n",
       "            background-color:  #bbc7e0;\n",
       "            color:  #000000;\n",
       "        }#T_4cadb380_b0ba_11eb_85c0_803049342980row8_col0{\n",
       "            background-color:  #f7eef6;\n",
       "            color:  #000000;\n",
       "        }#T_4cadb380_b0ba_11eb_85c0_803049342980row8_col1{\n",
       "            background-color:  #faf1f8;\n",
       "            color:  #000000;\n",
       "        }#T_4cadb380_b0ba_11eb_85c0_803049342980row8_col2{\n",
       "            background-color:  #a3bcda;\n",
       "            color:  #000000;\n",
       "        }#T_4cadb380_b0ba_11eb_85c0_803049342980row9_col2{\n",
       "            background-color:  #d1d1e6;\n",
       "            color:  #000000;\n",
       "        }</style><table id=\"T_4cadb380_b0ba_11eb_85c0_803049342980\" ><thead>    <tr>        <th class=\"blank level0\" ></th>        <th class=\"col_heading level0 col0\" >Actual Profit</th>        <th class=\"col_heading level0 col1\" >GB Predicted Profit</th>        <th class=\"col_heading level0 col2\" >LR Predicted Profit</th>    </tr></thead><tbody>\n",
       "                <tr>\n",
       "                        <th id=\"T_4cadb380_b0ba_11eb_85c0_803049342980level0_row0\" class=\"row_heading level0 row0\" >0</th>\n",
       "                        <td id=\"T_4cadb380_b0ba_11eb_85c0_803049342980row0_col0\" class=\"data row0 col0\" >192261.830000</td>\n",
       "                        <td id=\"T_4cadb380_b0ba_11eb_85c0_803049342980row0_col1\" class=\"data row0 col1\" >191913.100159</td>\n",
       "                        <td id=\"T_4cadb380_b0ba_11eb_85c0_803049342980row0_col2\" class=\"data row0 col2\" >173556.094950</td>\n",
       "            </tr>\n",
       "            <tr>\n",
       "                        <th id=\"T_4cadb380_b0ba_11eb_85c0_803049342980level0_row1\" class=\"row_heading level0 row1\" >1</th>\n",
       "                        <td id=\"T_4cadb380_b0ba_11eb_85c0_803049342980row1_col0\" class=\"data row1 col0\" >191792.060000</td>\n",
       "                        <td id=\"T_4cadb380_b0ba_11eb_85c0_803049342980row1_col1\" class=\"data row1 col1\" >191707.762425</td>\n",
       "                        <td id=\"T_4cadb380_b0ba_11eb_85c0_803049342980row1_col2\" class=\"data row1 col2\" >187967.147675</td>\n",
       "            </tr>\n",
       "            <tr>\n",
       "                        <th id=\"T_4cadb380_b0ba_11eb_85c0_803049342980level0_row2\" class=\"row_heading level0 row2\" >2</th>\n",
       "                        <td id=\"T_4cadb380_b0ba_11eb_85c0_803049342980row2_col0\" class=\"data row2 col0\" >191050.390000</td>\n",
       "                        <td id=\"T_4cadb380_b0ba_11eb_85c0_803049342980row2_col1\" class=\"data row2 col1\" >182033.334253</td>\n",
       "                        <td id=\"T_4cadb380_b0ba_11eb_85c0_803049342980row2_col2\" class=\"data row2 col2\" >188724.567639</td>\n",
       "            </tr>\n",
       "            <tr>\n",
       "                        <th id=\"T_4cadb380_b0ba_11eb_85c0_803049342980level0_row3\" class=\"row_heading level0 row3\" >3</th>\n",
       "                        <td id=\"T_4cadb380_b0ba_11eb_85c0_803049342980row3_col0\" class=\"data row3 col0\" >182901.990000</td>\n",
       "                        <td id=\"T_4cadb380_b0ba_11eb_85c0_803049342980row3_col1\" class=\"data row3 col1\" >182784.946007</td>\n",
       "                        <td id=\"T_4cadb380_b0ba_11eb_85c0_803049342980row3_col2\" class=\"data row3 col2\" >172877.722551</td>\n",
       "            </tr>\n",
       "            <tr>\n",
       "                        <th id=\"T_4cadb380_b0ba_11eb_85c0_803049342980level0_row4\" class=\"row_heading level0 row4\" >4</th>\n",
       "                        <td id=\"T_4cadb380_b0ba_11eb_85c0_803049342980row4_col0\" class=\"data row4 col0\" >166187.940000</td>\n",
       "                        <td id=\"T_4cadb380_b0ba_11eb_85c0_803049342980row4_col1\" class=\"data row4 col1\" >167605.805057</td>\n",
       "                        <td id=\"T_4cadb380_b0ba_11eb_85c0_803049342980row4_col2\" class=\"data row4 col2\" >144209.131627</td>\n",
       "            </tr>\n",
       "            <tr>\n",
       "                        <th id=\"T_4cadb380_b0ba_11eb_85c0_803049342980level0_row5\" class=\"row_heading level0 row5\" >5</th>\n",
       "                        <td id=\"T_4cadb380_b0ba_11eb_85c0_803049342980row5_col0\" class=\"data row5 col0\" >156991.120000</td>\n",
       "                        <td id=\"T_4cadb380_b0ba_11eb_85c0_803049342980row5_col1\" class=\"data row5 col1\" >156980.435527</td>\n",
       "                        <td id=\"T_4cadb380_b0ba_11eb_85c0_803049342980row5_col2\" class=\"data row5 col2\" >168221.236798</td>\n",
       "            </tr>\n",
       "            <tr>\n",
       "                        <th id=\"T_4cadb380_b0ba_11eb_85c0_803049342980level0_row6\" class=\"row_heading level0 row6\" >6</th>\n",
       "                        <td id=\"T_4cadb380_b0ba_11eb_85c0_803049342980row6_col0\" class=\"data row6 col0\" >156122.510000</td>\n",
       "                        <td id=\"T_4cadb380_b0ba_11eb_85c0_803049342980row6_col1\" class=\"data row6 col1\" >156120.147656</td>\n",
       "                        <td id=\"T_4cadb380_b0ba_11eb_85c0_803049342980row6_col2\" class=\"data row6 col2\" >148367.144789</td>\n",
       "            </tr>\n",
       "            <tr>\n",
       "                        <th id=\"T_4cadb380_b0ba_11eb_85c0_803049342980level0_row7\" class=\"row_heading level0 row7\" >7</th>\n",
       "                        <td id=\"T_4cadb380_b0ba_11eb_85c0_803049342980row7_col0\" class=\"data row7 col0\" >155752.600000</td>\n",
       "                        <td id=\"T_4cadb380_b0ba_11eb_85c0_803049342980row7_col1\" class=\"data row7 col1\" >156074.695513</td>\n",
       "                        <td id=\"T_4cadb380_b0ba_11eb_85c0_803049342980row7_col2\" class=\"data row7 col2\" >158208.223211</td>\n",
       "            </tr>\n",
       "            <tr>\n",
       "                        <th id=\"T_4cadb380_b0ba_11eb_85c0_803049342980level0_row8\" class=\"row_heading level0 row8\" >8</th>\n",
       "                        <td id=\"T_4cadb380_b0ba_11eb_85c0_803049342980row8_col0\" class=\"data row8 col0\" >152211.770000</td>\n",
       "                        <td id=\"T_4cadb380_b0ba_11eb_85c0_803049342980row8_col1\" class=\"data row8 col1\" >151674.580206</td>\n",
       "                        <td id=\"T_4cadb380_b0ba_11eb_85c0_803049342980row8_col2\" class=\"data row8 col2\" >161165.081854</td>\n",
       "            </tr>\n",
       "            <tr>\n",
       "                        <th id=\"T_4cadb380_b0ba_11eb_85c0_803049342980level0_row9\" class=\"row_heading level0 row9\" >9</th>\n",
       "                        <td id=\"T_4cadb380_b0ba_11eb_85c0_803049342980row9_col0\" class=\"data row9 col0\" >149759.960000</td>\n",
       "                        <td id=\"T_4cadb380_b0ba_11eb_85c0_803049342980row9_col1\" class=\"data row9 col1\" >150172.199001</td>\n",
       "                        <td id=\"T_4cadb380_b0ba_11eb_85c0_803049342980row9_col2\" class=\"data row9 col2\" >155314.168179</td>\n",
       "            </tr>\n",
       "    </tbody></table>"
      ],
      "text/plain": [
       "<pandas.io.formats.style.Styler at 0x1d538483a60>"
      ]
     },
     "execution_count": 187,
     "metadata": {},
     "output_type": "execute_result"
    }
   ],
   "source": [
    "# comparison between Actual 'Profit' from Train dataset abd Predicted 'Profit' from Test dataset\n",
    "actualvspredicted = pd.DataFrame({\"Actual Profit\":y, \"GB Predicted Profit\":GBR_pred1, \"LR Predicted Profit\":LR_pred1,})\n",
    "actualvspredicted.head(10).style.background_gradient(cmap='PuBuGn')"
   ]
  },
  {
   "cell_type": "markdown",
   "metadata": {},
   "source": [
    "**Result**: The best model is **Gradient Boosting Regressor** with **R2 score = 0.972002**."
   ]
  },
  {
   "cell_type": "markdown",
   "metadata": {},
   "source": [
    "* #### LASSO"
   ]
  },
  {
   "cell_type": "code",
   "execution_count": 200,
   "metadata": {},
   "outputs": [
    {
     "data": {
      "text/plain": [
       "array([100571.52123624, 122797.24339554, 128579.55543505,  72711.92309512,\n",
       "       176376.94604553, 120083.63139358,  68324.94269339,  90318.41738118,\n",
       "       118536.93941842, 159574.45845603])"
      ]
     },
     "execution_count": 200,
     "metadata": {},
     "output_type": "execute_result"
    }
   ],
   "source": [
    "# Lasso Regression model\n",
    "EN = ElasticNet()\n",
    "\n",
    "# Model Training\n",
    "EN.fit(X_train, y_train)\n",
    "# Model Prediction\n",
    "EN_pred = EN.predict(X_test)\n",
    "EN_pred"
   ]
  },
  {
   "cell_type": "code",
   "execution_count": 205,
   "metadata": {},
   "outputs": [
    {
     "data": {
      "text/plain": [
       "0.8770229452823423"
      ]
     },
     "execution_count": 205,
     "metadata": {},
     "output_type": "execute_result"
    }
   ],
   "source": [
    "# Model R2 score\n",
    "ENscore = r2_score(y_test,EN_pred)\n",
    "ENscore"
   ]
  },
  {
   "cell_type": "code",
   "execution_count": 204,
   "metadata": {},
   "outputs": [
    {
     "data": {
      "text/html": [
       "<div>\n",
       "<style scoped>\n",
       "    .dataframe tbody tr th:only-of-type {\n",
       "        vertical-align: middle;\n",
       "    }\n",
       "\n",
       "    .dataframe tbody tr th {\n",
       "        vertical-align: top;\n",
       "    }\n",
       "\n",
       "    .dataframe thead th {\n",
       "        text-align: right;\n",
       "    }\n",
       "</style>\n",
       "<table border=\"1\" class=\"dataframe\">\n",
       "  <thead>\n",
       "    <tr style=\"text-align: right;\">\n",
       "      <th></th>\n",
       "      <th>Model</th>\n",
       "      <th>r2score</th>\n",
       "      <th>MAE</th>\n",
       "      <th>MSE</th>\n",
       "      <th>RMSE</th>\n",
       "      <th>MSLE</th>\n",
       "      <th>RMSLE</th>\n",
       "    </tr>\n",
       "  </thead>\n",
       "  <tbody>\n",
       "    <tr>\n",
       "      <th>1</th>\n",
       "      <td>Elastic net</td>\n",
       "      <td>0.877023</td>\n",
       "      <td>11141.851307</td>\n",
       "      <td>1.572743e+08</td>\n",
       "      <td>12540.905925</td>\n",
       "      <td>0.011449</td>\n",
       "      <td>0.106999</td>\n",
       "    </tr>\n",
       "  </tbody>\n",
       "</table>\n",
       "</div>"
      ],
      "text/plain": [
       "         Model   r2score           MAE           MSE          RMSE      MSLE  \\\n",
       "1  Elastic net  0.877023  11141.851307  1.572743e+08  12540.905925  0.011449   \n",
       "\n",
       "      RMSLE  \n",
       "1  0.106999  "
      ]
     },
     "execution_count": 204,
     "metadata": {},
     "output_type": "execute_result"
    }
   ],
   "source": [
    "ENMetrics = pd.DataFrame({'Model':  'Elastic net',\n",
    "                          'r2score': r2_score(y_test,EN_pred),\n",
    "                          'MAE':     metrics.mean_absolute_error (y_test,EN_pred),\n",
    "                          'MSE':     metrics.mean_squared_error(y_test,EN_pred),\n",
    "                          'RMSE':    np.sqrt(metrics.mean_squared_error(y_test,EN_pred)),\n",
    "                          'MSLE':    metrics.mean_squared_log_error(y_test,EN_pred),\n",
    "                          'RMSLE':   np.sqrt(metrics.mean_squared_log_error(y_test,EN_pred))             \n",
    "                          },index=[1])\n",
    "\n",
    "ENMetrics"
   ]
  },
  {
   "cell_type": "code",
   "execution_count": 207,
   "metadata": {},
   "outputs": [
    {
     "data": {
      "image/png": "[encoded data removed]",
      "text/plain": [
       "<Figure size 576x360 with 1 Axes>"
      ]
     },
     "metadata": {
      "needs_background": "light"
     },
     "output_type": "display_data"
    }
   ],
   "source": [
    "# visualisation of Train dataset predictions\n",
    "\n",
    "# Plot outputs\n",
    "plt.figure(figsize=(8,5))\n",
    "pl.plot(y_test, EN_pred,'bo')\n",
    "pl.plot([0,200000],[0,200000],'g-')\n",
    "pl.xlabel('Predicted Profit')\n",
    "pl.ylabel('Profit')\n",
    "pl.show()"
   ]
  },
  {
   "cell_type": "code",
   "execution_count": 208,
   "metadata": {},
   "outputs": [
    {
     "data": {
      "text/plain": [
       "array([189279.28226494, 185920.99251107, 176376.94604553, 169153.86110995,\n",
       "       159574.45845603, 158499.64509127, 141871.56716085, 155967.7611302 ,\n",
       "       152502.53989808, 146839.04803404, 129895.77807203, 122797.24339554,\n",
       "       124162.41206516, 120159.40020311, 144550.96517854, 138623.74145129,\n",
       "       113830.85074658, 130112.95750014, 125398.38953195, 122749.71389374,\n",
       "       113814.23395386, 123231.95008452, 118536.93941842, 109864.57243333,\n",
       "       104298.51894604,  97160.22791651, 103842.27940588, 120083.63139358,\n",
       "       100143.32317887,  97952.49096571,  91351.82847461,  90318.41738118,\n",
       "        84901.26628612,  93906.63041079,  93831.24933279,  85793.63627315,\n",
       "        78067.77995331,  85191.15902276,  68324.94269339,  76578.54409791,\n",
       "        88522.6606494 ,  72711.92309512,  67791.8980708 ,  57293.38761769,\n",
       "        59631.22648804,  45972.68796802,  68941.30645149, 105499.28575477,\n",
       "        42647.57573805,  90136.44300541])"
      ]
     },
     "execution_count": 208,
     "metadata": {},
     "output_type": "execute_result"
    }
   ],
   "source": [
    "# Test final predictions\n",
    "EN_pred1 = EN.predict(X_Test)\n",
    "EN_pred1  "
   ]
  },
  {
   "cell_type": "code",
   "execution_count": 210,
   "metadata": {},
   "outputs": [
    {
     "data": {
      "text/html": [
       "<div>\n",
       "<style scoped>\n",
       "    .dataframe tbody tr th:only-of-type {\n",
       "        vertical-align: middle;\n",
       "    }\n",
       "\n",
       "    .dataframe tbody tr th {\n",
       "        vertical-align: top;\n",
       "    }\n",
       "\n",
       "    .dataframe thead th {\n",
       "        text-align: right;\n",
       "    }\n",
       "</style>\n",
       "<table border=\"1\" class=\"dataframe\">\n",
       "  <thead>\n",
       "    <tr style=\"text-align: right;\">\n",
       "      <th></th>\n",
       "      <th>Model</th>\n",
       "      <th>r2score</th>\n",
       "      <th>MAE</th>\n",
       "      <th>MSE</th>\n",
       "      <th>RMSE</th>\n",
       "      <th>MSLE</th>\n",
       "      <th>RMSLE</th>\n",
       "    </tr>\n",
       "  </thead>\n",
       "  <tbody>\n",
       "    <tr>\n",
       "      <th>1</th>\n",
       "      <td>Elastic Net</td>\n",
       "      <td>0.817752</td>\n",
       "      <td>10718.653584</td>\n",
       "      <td>2.901562e+08</td>\n",
       "      <td>17033.972672</td>\n",
       "      <td>0.09446</td>\n",
       "      <td>0.307344</td>\n",
       "    </tr>\n",
       "  </tbody>\n",
       "</table>\n",
       "</div>"
      ],
      "text/plain": [
       "         Model   r2score           MAE           MSE          RMSE     MSLE  \\\n",
       "1  Elastic Net  0.817752  10718.653584  2.901562e+08  17033.972672  0.09446   \n",
       "\n",
       "      RMSLE  \n",
       "1  0.307344  "
      ]
     },
     "execution_count": 210,
     "metadata": {},
     "output_type": "execute_result"
    }
   ],
   "source": [
    "# Model ElasticNet Metrics\n",
    "ENMetrics1 = pd.DataFrame({'Model':   'Elastic Net',\n",
    "                           'r2score': r2_score(y,EN_pred1),\n",
    "                           'MAE':     metrics.mean_absolute_error (y,EN_pred1),\n",
    "                           'MSE':     metrics.mean_squared_error(y,EN_pred1),\n",
    "                           'RMSE':    np.sqrt(metrics.mean_squared_error(y,EN_pred1)),\n",
    "                           'MSLE':    metrics.mean_squared_log_error(y,EN_pred1),\n",
    "                           'RMSLE':   np.sqrt(metrics.mean_squared_log_error(y,EN_pred1))             \n",
    "                           },index=[1])\n",
    "\n",
    "ENMetrics1"
   ]
  },
  {
   "cell_type": "code",
   "execution_count": 211,
   "metadata": {},
   "outputs": [
    {
     "data": {
      "image/png": "[encoded data removed]",
      "text/plain": [
       "<Figure size 576x360 with 1 Axes>"
      ]
     },
     "metadata": {
      "needs_background": "light"
     },
     "output_type": "display_data"
    }
   ],
   "source": [
    "# visualisation of Test dataset predictions (LASSO)\n",
    "\n",
    "# Plot outputs\n",
    "plt.figure(figsize=(8,5))\n",
    "pl.plot(y, EN_pred1,'bo')\n",
    "pl.plot([0,200000],[0,200000],'g-')\n",
    "pl.xlabel('Predicted Profit')\n",
    "pl.ylabel('Profit')\n",
    "pl.show()"
   ]
  },
  {
   "cell_type": "code",
   "execution_count": 212,
   "metadata": {},
   "outputs": [
    {
     "data": {
      "text/html": [
       "<div>\n",
       "<style scoped>\n",
       "    .dataframe tbody tr th:only-of-type {\n",
       "        vertical-align: middle;\n",
       "    }\n",
       "\n",
       "    .dataframe tbody tr th {\n",
       "        vertical-align: top;\n",
       "    }\n",
       "\n",
       "    .dataframe thead th {\n",
       "        text-align: right;\n",
       "    }\n",
       "</style>\n",
       "<table border=\"1\" class=\"dataframe\">\n",
       "  <thead>\n",
       "    <tr style=\"text-align: right;\">\n",
       "      <th></th>\n",
       "      <th>Model</th>\n",
       "      <th>r2score</th>\n",
       "      <th>MAE</th>\n",
       "      <th>MSE</th>\n",
       "      <th>RMSE</th>\n",
       "      <th>MSLE</th>\n",
       "      <th>RMSLE</th>\n",
       "    </tr>\n",
       "  </thead>\n",
       "  <tbody>\n",
       "    <tr>\n",
       "      <th>1</th>\n",
       "      <td>Linear Regression</td>\n",
       "      <td>0.830464</td>\n",
       "      <td>11273.146641</td>\n",
       "      <td>2.699175e+08</td>\n",
       "      <td>16429.166532</td>\n",
       "      <td>0.077442</td>\n",
       "      <td>0.278283</td>\n",
       "    </tr>\n",
       "    <tr>\n",
       "      <th>1</th>\n",
       "      <td>Gradient Boosting Regressor</td>\n",
       "      <td>0.976388</td>\n",
       "      <td>2720.496801</td>\n",
       "      <td>3.759267e+07</td>\n",
       "      <td>6131.286289</td>\n",
       "      <td>0.007695</td>\n",
       "      <td>0.087723</td>\n",
       "    </tr>\n",
       "    <tr>\n",
       "      <th>1</th>\n",
       "      <td>Elastic Net</td>\n",
       "      <td>0.817752</td>\n",
       "      <td>10718.653584</td>\n",
       "      <td>2.901562e+08</td>\n",
       "      <td>17033.972672</td>\n",
       "      <td>0.094460</td>\n",
       "      <td>0.307344</td>\n",
       "    </tr>\n",
       "  </tbody>\n",
       "</table>\n",
       "</div>"
      ],
      "text/plain": [
       "                         Model   r2score           MAE           MSE  \\\n",
       "1            Linear Regression  0.830464  11273.146641  2.699175e+08   \n",
       "1  Gradient Boosting Regressor  0.976388   2720.496801  3.759267e+07   \n",
       "1                  Elastic Net  0.817752  10718.653584  2.901562e+08   \n",
       "\n",
       "           RMSE      MSLE     RMSLE  \n",
       "1  16429.166532  0.077442  0.278283  \n",
       "1   6131.286289  0.007695  0.087723  \n",
       "1  17033.972672  0.094460  0.307344  "
      ]
     },
     "execution_count": 212,
     "metadata": {},
     "output_type": "execute_result"
    }
   ],
   "source": [
    "# score comparison of models\n",
    "frames = [LRMetrics1,GBRMetrics1, ENMetrics1]\n",
    "TrainingResult2 = pd.concat(frames)\n",
    "TrainingResult2"
   ]
  },
  {
   "cell_type": "code",
   "execution_count": 215,
   "metadata": {},
   "outputs": [
    {
     "data": {
      "text/html": [
       "<style  type=\"text/css\" >\n",
       "#T_77e7e671_b0bd_11eb_a992_803049342980row0_col0,#T_77e7e671_b0bd_11eb_a992_803049342980row0_col1,#T_77e7e671_b0bd_11eb_a992_803049342980row0_col3,#T_77e7e671_b0bd_11eb_a992_803049342980row1_col1,#T_77e7e671_b0bd_11eb_a992_803049342980row2_col2{\n",
       "            background-color:  #014636;\n",
       "            color:  #f1f1f1;\n",
       "        }#T_77e7e671_b0bd_11eb_a992_803049342980row0_col2,#T_77e7e671_b0bd_11eb_a992_803049342980row2_col3{\n",
       "            background-color:  #01736a;\n",
       "            color:  #f1f1f1;\n",
       "        }#T_77e7e671_b0bd_11eb_a992_803049342980row1_col0{\n",
       "            background-color:  #014737;\n",
       "            color:  #f1f1f1;\n",
       "        }#T_77e7e671_b0bd_11eb_a992_803049342980row1_col2{\n",
       "            background-color:  #014838;\n",
       "            color:  #f1f1f1;\n",
       "        }#T_77e7e671_b0bd_11eb_a992_803049342980row1_col3{\n",
       "            background-color:  #015342;\n",
       "            color:  #f1f1f1;\n",
       "        }#T_77e7e671_b0bd_11eb_a992_803049342980row2_col0{\n",
       "            background-color:  #014b3a;\n",
       "            color:  #f1f1f1;\n",
       "        }#T_77e7e671_b0bd_11eb_a992_803049342980row2_col1{\n",
       "            background-color:  #016f5f;\n",
       "            color:  #f1f1f1;\n",
       "        }#T_77e7e671_b0bd_11eb_a992_803049342980row3_col0{\n",
       "            background-color:  #016d5c;\n",
       "            color:  #f1f1f1;\n",
       "        }#T_77e7e671_b0bd_11eb_a992_803049342980row3_col1{\n",
       "            background-color:  #016d5b;\n",
       "            color:  #f1f1f1;\n",
       "        }#T_77e7e671_b0bd_11eb_a992_803049342980row3_col2{\n",
       "            background-color:  #01756d;\n",
       "            color:  #f1f1f1;\n",
       "        }#T_77e7e671_b0bd_11eb_a992_803049342980row3_col3{\n",
       "            background-color:  #098391;\n",
       "            color:  #f1f1f1;\n",
       "        }#T_77e7e671_b0bd_11eb_a992_803049342980row4_col0,#T_77e7e671_b0bd_11eb_a992_803049342980row9_col2{\n",
       "            background-color:  #3790c0;\n",
       "            color:  #000000;\n",
       "        }#T_77e7e671_b0bd_11eb_a992_803049342980row4_col1{\n",
       "            background-color:  #2b8db5;\n",
       "            color:  #000000;\n",
       "        }#T_77e7e671_b0bd_11eb_a992_803049342980row4_col2,#T_77e7e671_b0bd_11eb_a992_803049342980row5_col1{\n",
       "            background-color:  #68a9cf;\n",
       "            color:  #000000;\n",
       "        }#T_77e7e671_b0bd_11eb_a992_803049342980row4_col3{\n",
       "            background-color:  #3d93c2;\n",
       "            color:  #000000;\n",
       "        }#T_77e7e671_b0bd_11eb_a992_803049342980row5_col0{\n",
       "            background-color:  #6aaad0;\n",
       "            color:  #000000;\n",
       "        }#T_77e7e671_b0bd_11eb_a992_803049342980row5_col2{\n",
       "            background-color:  #027e83;\n",
       "            color:  #f1f1f1;\n",
       "        }#T_77e7e671_b0bd_11eb_a992_803049342980row5_col3{\n",
       "            background-color:  #4397c4;\n",
       "            color:  #000000;\n",
       "        }#T_77e7e671_b0bd_11eb_a992_803049342980row6_col0{\n",
       "            background-color:  #72acd1;\n",
       "            color:  #000000;\n",
       "        }#T_77e7e671_b0bd_11eb_a992_803049342980row6_col1{\n",
       "            background-color:  #6eabd0;\n",
       "            color:  #000000;\n",
       "        }#T_77e7e671_b0bd_11eb_a992_803049342980row6_col2{\n",
       "            background-color:  #55a0ca;\n",
       "            color:  #000000;\n",
       "        }#T_77e7e671_b0bd_11eb_a992_803049342980row6_col3{\n",
       "            background-color:  #a7bddb;\n",
       "            color:  #000000;\n",
       "        }#T_77e7e671_b0bd_11eb_a992_803049342980row7_col0{\n",
       "            background-color:  #74add1;\n",
       "            color:  #000000;\n",
       "        }#T_77e7e671_b0bd_11eb_a992_803049342980row7_col1{\n",
       "            background-color:  #70acd1;\n",
       "            color:  #000000;\n",
       "        }#T_77e7e671_b0bd_11eb_a992_803049342980row7_col2{\n",
       "            background-color:  #288cb1;\n",
       "            color:  #000000;\n",
       "        }#T_77e7e671_b0bd_11eb_a992_803049342980row7_col3{\n",
       "            background-color:  #519ec8;\n",
       "            color:  #000000;\n",
       "        }#T_77e7e671_b0bd_11eb_a992_803049342980row8_col0{\n",
       "            background-color:  #8eb5d6;\n",
       "            color:  #000000;\n",
       "        }#T_77e7e671_b0bd_11eb_a992_803049342980row8_col1{\n",
       "            background-color:  #90b6d7;\n",
       "            color:  #000000;\n",
       "        }#T_77e7e671_b0bd_11eb_a992_803049342980row8_col2{\n",
       "            background-color:  #1b88a4;\n",
       "            color:  #000000;\n",
       "        }#T_77e7e671_b0bd_11eb_a992_803049342980row8_col3{\n",
       "            background-color:  #62a6cd;\n",
       "            color:  #000000;\n",
       "        }#T_77e7e671_b0bd_11eb_a992_803049342980row9_col0{\n",
       "            background-color:  #9fbbda;\n",
       "            color:  #000000;\n",
       "        }#T_77e7e671_b0bd_11eb_a992_803049342980row9_col1{\n",
       "            background-color:  #99b9d9;\n",
       "            color:  #000000;\n",
       "        }#T_77e7e671_b0bd_11eb_a992_803049342980row9_col3,#T_77e7e671_b0bd_11eb_a992_803049342980row15_col2{\n",
       "            background-color:  #88b3d5;\n",
       "            color:  #000000;\n",
       "        }#T_77e7e671_b0bd_11eb_a992_803049342980row10_col0{\n",
       "            background-color:  #b3c3de;\n",
       "            color:  #000000;\n",
       "        }#T_77e7e671_b0bd_11eb_a992_803049342980row10_col1,#T_77e7e671_b0bd_11eb_a992_803049342980row13_col0{\n",
       "            background-color:  #e3dded;\n",
       "            color:  #000000;\n",
       "        }#T_77e7e671_b0bd_11eb_a992_803049342980row10_col2{\n",
       "            background-color:  #86b3d5;\n",
       "            color:  #000000;\n",
       "        }#T_77e7e671_b0bd_11eb_a992_803049342980row10_col3{\n",
       "            background-color:  #d9d6e9;\n",
       "            color:  #000000;\n",
       "        }#T_77e7e671_b0bd_11eb_a992_803049342980row11_col0{\n",
       "            background-color:  #bcc7e1;\n",
       "            color:  #000000;\n",
       "        }#T_77e7e671_b0bd_11eb_a992_803049342980row11_col1{\n",
       "            background-color:  #ded9eb;\n",
       "            color:  #000000;\n",
       "        }#T_77e7e671_b0bd_11eb_a992_803049342980row11_col2{\n",
       "            background-color:  #d0d1e6;\n",
       "            color:  #000000;\n",
       "        }#T_77e7e671_b0bd_11eb_a992_803049342980row11_col3,#T_77e7e671_b0bd_11eb_a992_803049342980row19_col3{\n",
       "            background-color:  #ede3f1;\n",
       "            color:  #000000;\n",
       "        }#T_77e7e671_b0bd_11eb_a992_803049342980row12_col0{\n",
       "            background-color:  #c9cee4;\n",
       "            color:  #000000;\n",
       "        }#T_77e7e671_b0bd_11eb_a992_803049342980row12_col1{\n",
       "            background-color:  #cccfe5;\n",
       "            color:  #000000;\n",
       "        }#T_77e7e671_b0bd_11eb_a992_803049342980row12_col2{\n",
       "            background-color:  #c5cce3;\n",
       "            color:  #000000;\n",
       "        }#T_77e7e671_b0bd_11eb_a992_803049342980row12_col3{\n",
       "            background-color:  #e9e0ef;\n",
       "            color:  #000000;\n",
       "        }#T_77e7e671_b0bd_11eb_a992_803049342980row13_col1{\n",
       "            background-color:  #e1dcec;\n",
       "            color:  #000000;\n",
       "        }#T_77e7e671_b0bd_11eb_a992_803049342980row13_col2,#T_77e7e671_b0bd_11eb_a992_803049342980row16_col3,#T_77e7e671_b0bd_11eb_a992_803049342980row19_col0,#T_77e7e671_b0bd_11eb_a992_803049342980row19_col1{\n",
       "            background-color:  #fff7fb;\n",
       "            color:  #000000;\n",
       "        }#T_77e7e671_b0bd_11eb_a992_803049342980row13_col3{\n",
       "            background-color:  #f2e9f4;\n",
       "            color:  #000000;\n",
       "        }#T_77e7e671_b0bd_11eb_a992_803049342980row14_col0{\n",
       "            background-color:  #e8e0ef;\n",
       "            color:  #000000;\n",
       "        }#T_77e7e671_b0bd_11eb_a992_803049342980row14_col1{\n",
       "            background-color:  #e7dfee;\n",
       "            color:  #000000;\n",
       "        }#T_77e7e671_b0bd_11eb_a992_803049342980row14_col2{\n",
       "            background-color:  #60a5cd;\n",
       "            color:  #000000;\n",
       "        }#T_77e7e671_b0bd_11eb_a992_803049342980row14_col3{\n",
       "            background-color:  #95b8d8;\n",
       "            color:  #000000;\n",
       "        }#T_77e7e671_b0bd_11eb_a992_803049342980row15_col0{\n",
       "            background-color:  #f0e6f2;\n",
       "            color:  #000000;\n",
       "        }#T_77e7e671_b0bd_11eb_a992_803049342980row15_col1{\n",
       "            background-color:  #eee4f1;\n",
       "            color:  #000000;\n",
       "        }#T_77e7e671_b0bd_11eb_a992_803049342980row15_col3{\n",
       "            background-color:  #b5c4df;\n",
       "            color:  #000000;\n",
       "        }#T_77e7e671_b0bd_11eb_a992_803049342980row16_col0{\n",
       "            background-color:  #f6edf6;\n",
       "            color:  #000000;\n",
       "        }#T_77e7e671_b0bd_11eb_a992_803049342980row16_col1,#T_77e7e671_b0bd_11eb_a992_803049342980row17_col1{\n",
       "            background-color:  #f8eff7;\n",
       "            color:  #000000;\n",
       "        }#T_77e7e671_b0bd_11eb_a992_803049342980row16_col2{\n",
       "            background-color:  #e5deed;\n",
       "            color:  #000000;\n",
       "        }#T_77e7e671_b0bd_11eb_a992_803049342980row17_col0,#T_77e7e671_b0bd_11eb_a992_803049342980row18_col1{\n",
       "            background-color:  #faf1f8;\n",
       "            color:  #000000;\n",
       "        }#T_77e7e671_b0bd_11eb_a992_803049342980row17_col2{\n",
       "            background-color:  #b4c4df;\n",
       "            color:  #000000;\n",
       "        }#T_77e7e671_b0bd_11eb_a992_803049342980row17_col3{\n",
       "            background-color:  #d8d6e9;\n",
       "            color:  #000000;\n",
       "        }#T_77e7e671_b0bd_11eb_a992_803049342980row18_col0{\n",
       "            background-color:  #fcf4f9;\n",
       "            color:  #000000;\n",
       "        }#T_77e7e671_b0bd_11eb_a992_803049342980row18_col2{\n",
       "            background-color:  #bfc9e1;\n",
       "            color:  #000000;\n",
       "        }#T_77e7e671_b0bd_11eb_a992_803049342980row18_col3{\n",
       "            background-color:  #e6deee;\n",
       "            color:  #000000;\n",
       "        }#T_77e7e671_b0bd_11eb_a992_803049342980row19_col2{\n",
       "            background-color:  #d2d2e7;\n",
       "            color:  #000000;\n",
       "        }</style><table id=\"T_77e7e671_b0bd_11eb_a992_803049342980\" ><thead>    <tr>        <th class=\"blank level0\" ></th>        <th class=\"col_heading level0 col0\" >Actual Profit</th>        <th class=\"col_heading level0 col1\" >GB Predicted Profit</th>        <th class=\"col_heading level0 col2\" >LR Predicted Profit</th>        <th class=\"col_heading level0 col3\" >Elastic Predicted Profit</th>    </tr></thead><tbody>\n",
       "                <tr>\n",
       "                        <th id=\"T_77e7e671_b0bd_11eb_a992_803049342980level0_row0\" class=\"row_heading level0 row0\" >0</th>\n",
       "                        <td id=\"T_77e7e671_b0bd_11eb_a992_803049342980row0_col0\" class=\"data row0 col0\" >192261.830000</td>\n",
       "                        <td id=\"T_77e7e671_b0bd_11eb_a992_803049342980row0_col1\" class=\"data row0 col1\" >191913.100159</td>\n",
       "                        <td id=\"T_77e7e671_b0bd_11eb_a992_803049342980row0_col2\" class=\"data row0 col2\" >173556.094950</td>\n",
       "                        <td id=\"T_77e7e671_b0bd_11eb_a992_803049342980row0_col3\" class=\"data row0 col3\" >189279.282265</td>\n",
       "            </tr>\n",
       "            <tr>\n",
       "                        <th id=\"T_77e7e671_b0bd_11eb_a992_803049342980level0_row1\" class=\"row_heading level0 row1\" >1</th>\n",
       "                        <td id=\"T_77e7e671_b0bd_11eb_a992_803049342980row1_col0\" class=\"data row1 col0\" >191792.060000</td>\n",
       "                        <td id=\"T_77e7e671_b0bd_11eb_a992_803049342980row1_col1\" class=\"data row1 col1\" >191707.762425</td>\n",
       "                        <td id=\"T_77e7e671_b0bd_11eb_a992_803049342980row1_col2\" class=\"data row1 col2\" >187967.147675</td>\n",
       "                        <td id=\"T_77e7e671_b0bd_11eb_a992_803049342980row1_col3\" class=\"data row1 col3\" >185920.992511</td>\n",
       "            </tr>\n",
       "            <tr>\n",
       "                        <th id=\"T_77e7e671_b0bd_11eb_a992_803049342980level0_row2\" class=\"row_heading level0 row2\" >2</th>\n",
       "                        <td id=\"T_77e7e671_b0bd_11eb_a992_803049342980row2_col0\" class=\"data row2 col0\" >191050.390000</td>\n",
       "                        <td id=\"T_77e7e671_b0bd_11eb_a992_803049342980row2_col1\" class=\"data row2 col1\" >182033.334253</td>\n",
       "                        <td id=\"T_77e7e671_b0bd_11eb_a992_803049342980row2_col2\" class=\"data row2 col2\" >188724.567639</td>\n",
       "                        <td id=\"T_77e7e671_b0bd_11eb_a992_803049342980row2_col3\" class=\"data row2 col3\" >176376.946046</td>\n",
       "            </tr>\n",
       "            <tr>\n",
       "                        <th id=\"T_77e7e671_b0bd_11eb_a992_803049342980level0_row3\" class=\"row_heading level0 row3\" >3</th>\n",
       "                        <td id=\"T_77e7e671_b0bd_11eb_a992_803049342980row3_col0\" class=\"data row3 col0\" >182901.990000</td>\n",
       "                        <td id=\"T_77e7e671_b0bd_11eb_a992_803049342980row3_col1\" class=\"data row3 col1\" >182784.946007</td>\n",
       "                        <td id=\"T_77e7e671_b0bd_11eb_a992_803049342980row3_col2\" class=\"data row3 col2\" >172877.722551</td>\n",
       "                        <td id=\"T_77e7e671_b0bd_11eb_a992_803049342980row3_col3\" class=\"data row3 col3\" >169153.861110</td>\n",
       "            </tr>\n",
       "            <tr>\n",
       "                        <th id=\"T_77e7e671_b0bd_11eb_a992_803049342980level0_row4\" class=\"row_heading level0 row4\" >4</th>\n",
       "                        <td id=\"T_77e7e671_b0bd_11eb_a992_803049342980row4_col0\" class=\"data row4 col0\" >166187.940000</td>\n",
       "                        <td id=\"T_77e7e671_b0bd_11eb_a992_803049342980row4_col1\" class=\"data row4 col1\" >167605.805057</td>\n",
       "                        <td id=\"T_77e7e671_b0bd_11eb_a992_803049342980row4_col2\" class=\"data row4 col2\" >144209.131627</td>\n",
       "                        <td id=\"T_77e7e671_b0bd_11eb_a992_803049342980row4_col3\" class=\"data row4 col3\" >159574.458456</td>\n",
       "            </tr>\n",
       "            <tr>\n",
       "                        <th id=\"T_77e7e671_b0bd_11eb_a992_803049342980level0_row5\" class=\"row_heading level0 row5\" >5</th>\n",
       "                        <td id=\"T_77e7e671_b0bd_11eb_a992_803049342980row5_col0\" class=\"data row5 col0\" >156991.120000</td>\n",
       "                        <td id=\"T_77e7e671_b0bd_11eb_a992_803049342980row5_col1\" class=\"data row5 col1\" >156980.435527</td>\n",
       "                        <td id=\"T_77e7e671_b0bd_11eb_a992_803049342980row5_col2\" class=\"data row5 col2\" >168221.236798</td>\n",
       "                        <td id=\"T_77e7e671_b0bd_11eb_a992_803049342980row5_col3\" class=\"data row5 col3\" >158499.645091</td>\n",
       "            </tr>\n",
       "            <tr>\n",
       "                        <th id=\"T_77e7e671_b0bd_11eb_a992_803049342980level0_row6\" class=\"row_heading level0 row6\" >6</th>\n",
       "                        <td id=\"T_77e7e671_b0bd_11eb_a992_803049342980row6_col0\" class=\"data row6 col0\" >156122.510000</td>\n",
       "                        <td id=\"T_77e7e671_b0bd_11eb_a992_803049342980row6_col1\" class=\"data row6 col1\" >156120.147656</td>\n",
       "                        <td id=\"T_77e7e671_b0bd_11eb_a992_803049342980row6_col2\" class=\"data row6 col2\" >148367.144789</td>\n",
       "                        <td id=\"T_77e7e671_b0bd_11eb_a992_803049342980row6_col3\" class=\"data row6 col3\" >141871.567161</td>\n",
       "            </tr>\n",
       "            <tr>\n",
       "                        <th id=\"T_77e7e671_b0bd_11eb_a992_803049342980level0_row7\" class=\"row_heading level0 row7\" >7</th>\n",
       "                        <td id=\"T_77e7e671_b0bd_11eb_a992_803049342980row7_col0\" class=\"data row7 col0\" >155752.600000</td>\n",
       "                        <td id=\"T_77e7e671_b0bd_11eb_a992_803049342980row7_col1\" class=\"data row7 col1\" >156074.695513</td>\n",
       "                        <td id=\"T_77e7e671_b0bd_11eb_a992_803049342980row7_col2\" class=\"data row7 col2\" >158208.223211</td>\n",
       "                        <td id=\"T_77e7e671_b0bd_11eb_a992_803049342980row7_col3\" class=\"data row7 col3\" >155967.761130</td>\n",
       "            </tr>\n",
       "            <tr>\n",
       "                        <th id=\"T_77e7e671_b0bd_11eb_a992_803049342980level0_row8\" class=\"row_heading level0 row8\" >8</th>\n",
       "                        <td id=\"T_77e7e671_b0bd_11eb_a992_803049342980row8_col0\" class=\"data row8 col0\" >152211.770000</td>\n",
       "                        <td id=\"T_77e7e671_b0bd_11eb_a992_803049342980row8_col1\" class=\"data row8 col1\" >151674.580206</td>\n",
       "                        <td id=\"T_77e7e671_b0bd_11eb_a992_803049342980row8_col2\" class=\"data row8 col2\" >161165.081854</td>\n",
       "                        <td id=\"T_77e7e671_b0bd_11eb_a992_803049342980row8_col3\" class=\"data row8 col3\" >152502.539898</td>\n",
       "            </tr>\n",
       "            <tr>\n",
       "                        <th id=\"T_77e7e671_b0bd_11eb_a992_803049342980level0_row9\" class=\"row_heading level0 row9\" >9</th>\n",
       "                        <td id=\"T_77e7e671_b0bd_11eb_a992_803049342980row9_col0\" class=\"data row9 col0\" >149759.960000</td>\n",
       "                        <td id=\"T_77e7e671_b0bd_11eb_a992_803049342980row9_col1\" class=\"data row9 col1\" >150172.199001</td>\n",
       "                        <td id=\"T_77e7e671_b0bd_11eb_a992_803049342980row9_col2\" class=\"data row9 col2\" >155314.168179</td>\n",
       "                        <td id=\"T_77e7e671_b0bd_11eb_a992_803049342980row9_col3\" class=\"data row9 col3\" >146839.048034</td>\n",
       "            </tr>\n",
       "            <tr>\n",
       "                        <th id=\"T_77e7e671_b0bd_11eb_a992_803049342980level0_row10\" class=\"row_heading level0 row10\" >10</th>\n",
       "                        <td id=\"T_77e7e671_b0bd_11eb_a992_803049342980row10_col0\" class=\"data row10 col0\" >146121.950000</td>\n",
       "                        <td id=\"T_77e7e671_b0bd_11eb_a992_803049342980row10_col1\" class=\"data row10 col1\" >133949.765383</td>\n",
       "                        <td id=\"T_77e7e671_b0bd_11eb_a992_803049342980row10_col2\" class=\"data row10 col2\" >139028.065977</td>\n",
       "                        <td id=\"T_77e7e671_b0bd_11eb_a992_803049342980row10_col3\" class=\"data row10 col3\" >129895.778072</td>\n",
       "            </tr>\n",
       "            <tr>\n",
       "                        <th id=\"T_77e7e671_b0bd_11eb_a992_803049342980level0_row11\" class=\"row_heading level0 row11\" >11</th>\n",
       "                        <td id=\"T_77e7e671_b0bd_11eb_a992_803049342980row11_col0\" class=\"data row11 col0\" >144259.400000</td>\n",
       "                        <td id=\"T_77e7e671_b0bd_11eb_a992_803049342980row11_col1\" class=\"data row11 col1\" >135704.386038</td>\n",
       "                        <td id=\"T_77e7e671_b0bd_11eb_a992_803049342980row11_col2\" class=\"data row11 col2\" >122116.576021</td>\n",
       "                        <td id=\"T_77e7e671_b0bd_11eb_a992_803049342980row11_col3\" class=\"data row11 col3\" >122797.243396</td>\n",
       "            </tr>\n",
       "            <tr>\n",
       "                        <th id=\"T_77e7e671_b0bd_11eb_a992_803049342980level0_row12\" class=\"row_heading level0 row12\" >12</th>\n",
       "                        <td id=\"T_77e7e671_b0bd_11eb_a992_803049342980row12_col0\" class=\"data row12 col0\" >141585.520000</td>\n",
       "                        <td id=\"T_77e7e671_b0bd_11eb_a992_803049342980row12_col1\" class=\"data row12 col1\" >140698.313396</td>\n",
       "                        <td id=\"T_77e7e671_b0bd_11eb_a992_803049342980row12_col2\" class=\"data row12 col2\" >124976.361848</td>\n",
       "                        <td id=\"T_77e7e671_b0bd_11eb_a992_803049342980row12_col3\" class=\"data row12 col3\" >124162.412065</td>\n",
       "            </tr>\n",
       "            <tr>\n",
       "                        <th id=\"T_77e7e671_b0bd_11eb_a992_803049342980level0_row13\" class=\"row_heading level0 row13\" >13</th>\n",
       "                        <td id=\"T_77e7e671_b0bd_11eb_a992_803049342980row13_col0\" class=\"data row13 col0\" >134307.350000</td>\n",
       "                        <td id=\"T_77e7e671_b0bd_11eb_a992_803049342980row13_col1\" class=\"data row13 col1\" >134428.583727</td>\n",
       "                        <td id=\"T_77e7e671_b0bd_11eb_a992_803049342980row13_col2\" class=\"data row13 col2\" >99895.940523</td>\n",
       "                        <td id=\"T_77e7e671_b0bd_11eb_a992_803049342980row13_col3\" class=\"data row13 col3\" >120159.400203</td>\n",
       "            </tr>\n",
       "            <tr>\n",
       "                        <th id=\"T_77e7e671_b0bd_11eb_a992_803049342980level0_row14\" class=\"row_heading level0 row14\" >14</th>\n",
       "                        <td id=\"T_77e7e671_b0bd_11eb_a992_803049342980row14_col0\" class=\"data row14 col0\" >132602.650000</td>\n",
       "                        <td id=\"T_77e7e671_b0bd_11eb_a992_803049342980row14_col1\" class=\"data row14 col1\" >132615.929539</td>\n",
       "                        <td id=\"T_77e7e671_b0bd_11eb_a992_803049342980row14_col2\" class=\"data row14 col2\" >145787.246088</td>\n",
       "                        <td id=\"T_77e7e671_b0bd_11eb_a992_803049342980row14_col3\" class=\"data row14 col3\" >144550.965179</td>\n",
       "            </tr>\n",
       "            <tr>\n",
       "                        <th id=\"T_77e7e671_b0bd_11eb_a992_803049342980level0_row15\" class=\"row_heading level0 row15\" >15</th>\n",
       "                        <td id=\"T_77e7e671_b0bd_11eb_a992_803049342980row15_col0\" class=\"data row15 col0\" >129917.040000</td>\n",
       "                        <td id=\"T_77e7e671_b0bd_11eb_a992_803049342980row15_col1\" class=\"data row15 col1\" >130451.537207</td>\n",
       "                        <td id=\"T_77e7e671_b0bd_11eb_a992_803049342980row15_col2\" class=\"data row15 col2\" >138718.546295</td>\n",
       "                        <td id=\"T_77e7e671_b0bd_11eb_a992_803049342980row15_col3\" class=\"data row15 col3\" >138623.741451</td>\n",
       "            </tr>\n",
       "            <tr>\n",
       "                        <th id=\"T_77e7e671_b0bd_11eb_a992_803049342980level0_row16\" class=\"row_heading level0 row16\" >16</th>\n",
       "                        <td id=\"T_77e7e671_b0bd_11eb_a992_803049342980row16_col0\" class=\"data row16 col0\" >126992.930000</td>\n",
       "                        <td id=\"T_77e7e671_b0bd_11eb_a992_803049342980row16_col1\" class=\"data row16 col1\" >125818.142687</td>\n",
       "                        <td id=\"T_77e7e671_b0bd_11eb_a992_803049342980row16_col2\" class=\"data row16 col2\" >114058.803818</td>\n",
       "                        <td id=\"T_77e7e671_b0bd_11eb_a992_803049342980row16_col3\" class=\"data row16 col3\" >113830.850747</td>\n",
       "            </tr>\n",
       "            <tr>\n",
       "                        <th id=\"T_77e7e671_b0bd_11eb_a992_803049342980level0_row17\" class=\"row_heading level0 row17\" >17</th>\n",
       "                        <td id=\"T_77e7e671_b0bd_11eb_a992_803049342980row17_col0\" class=\"data row17 col0\" >125370.370000</td>\n",
       "                        <td id=\"T_77e7e671_b0bd_11eb_a992_803049342980row17_col1\" class=\"data row17 col1\" >125999.658083</td>\n",
       "                        <td id=\"T_77e7e671_b0bd_11eb_a992_803049342980row17_col2\" class=\"data row17 col2\" >129625.912076</td>\n",
       "                        <td id=\"T_77e7e671_b0bd_11eb_a992_803049342980row17_col3\" class=\"data row17 col3\" >130112.957500</td>\n",
       "            </tr>\n",
       "            <tr>\n",
       "                        <th id=\"T_77e7e671_b0bd_11eb_a992_803049342980level0_row18\" class=\"row_heading level0 row18\" >18</th>\n",
       "                        <td id=\"T_77e7e671_b0bd_11eb_a992_803049342980row18_col0\" class=\"data row18 col0\" >124266.900000</td>\n",
       "                        <td id=\"T_77e7e671_b0bd_11eb_a992_803049342980row18_col1\" class=\"data row18 col1\" >125027.495961</td>\n",
       "                        <td id=\"T_77e7e671_b0bd_11eb_a992_803049342980row18_col2\" class=\"data row18 col2\" >126710.587092</td>\n",
       "                        <td id=\"T_77e7e671_b0bd_11eb_a992_803049342980row18_col3\" class=\"data row18 col3\" >125398.389532</td>\n",
       "            </tr>\n",
       "            <tr>\n",
       "                        <th id=\"T_77e7e671_b0bd_11eb_a992_803049342980level0_row19\" class=\"row_heading level0 row19\" >19</th>\n",
       "                        <td id=\"T_77e7e671_b0bd_11eb_a992_803049342980row19_col0\" class=\"data row19 col0\" >122776.860000</td>\n",
       "                        <td id=\"T_77e7e671_b0bd_11eb_a992_803049342980row19_col1\" class=\"data row19 col1\" >122474.818008</td>\n",
       "                        <td id=\"T_77e7e671_b0bd_11eb_a992_803049342980row19_col2\" class=\"data row19 col2\" >121647.332698</td>\n",
       "                        <td id=\"T_77e7e671_b0bd_11eb_a992_803049342980row19_col3\" class=\"data row19 col3\" >122749.713894</td>\n",
       "            </tr>\n",
       "    </tbody></table>"
      ],
      "text/plain": [
       "<pandas.io.formats.style.Styler at 0x1d539880c10>"
      ]
     },
     "execution_count": 215,
     "metadata": {},
     "output_type": "execute_result"
    }
   ],
   "source": [
    "# comparison between Actual 'Profit' from Train dataset abd Predicted 'Profit' from Test dataset\n",
    "actualvspredicted = pd.DataFrame({\"Actual Profit\":y, \"GB Predicted Profit\":GBR_pred1, \"LR Predicted Profit\":LR_pred1, \"Elastic Predicted Profit\":EN_pred1})\n",
    "actualvspredicted.head(20).style.background_gradient(cmap='PuBuGn')"
   ]
  },
  {
   "cell_type": "markdown",
   "metadata": {},
   "source": [
    "Result: The best model is Gradient Boosting Regressor with R2 score = 0.976388."
   ]
  },
  {
   "cell_type": "markdown",
   "metadata": {},
   "source": [
    "##  Conclusion."
   ]
  },
  {
   "cell_type": "code",
   "execution_count": 217,
   "metadata": {},
   "outputs": [],
   "source": [
    "# submission of .csv file with final predictions\n",
    "sub = pd.DataFrame()\n",
    "sub['ID'] = test.index\n",
    "sub['Profit'] = GBR_pred1\n",
    "sub.to_csv('StartupPredictions.csv', index=False)"
   ]
  },
  {
   "cell_type": "code",
   "execution_count": null,
   "metadata": {},
   "outputs": [],
   "source": []
  }
 ],
 "metadata": {
  "kernelspec": {
   "display_name": "Python 3",
   "language": "python",
   "name": "python3"
  },
  "language_info": {
   "codemirror_mode": {
    "name": "ipython",
    "version": 3
   },
   "file_extension": ".py",
   "mimetype": "text/x-python",
   "name": "python",
   "nbconvert_exporter": "python",
   "pygments_lexer": "ipython3",
   "version": "3.8.5"
  }
 },
 "nbformat": 4,
 "nbformat_minor": 4
}
